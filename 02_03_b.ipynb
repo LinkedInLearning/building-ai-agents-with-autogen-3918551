{
 "cells": [
  {
   "cell_type": "markdown",
   "id": "1ae76b94-830a-4c95-9d44-bec7ec0a5036",
   "metadata": {},
   "source": [
    "# 02_03 - Creating agents for the Assistant"
   ]
  },
  {
   "cell_type": "code",
   "execution_count": 1,
   "id": "17317c37-ecd5-4791-a2d3-cb86e58cf3c4",
   "metadata": {},
   "outputs": [
    {
     "data": {
      "text/plain": [
       "False"
      ]
     },
     "execution_count": 1,
     "metadata": {},
     "output_type": "execute_result"
    }
   ],
   "source": [
    "## import required libraries\n",
    "import os\n",
    "from autogen import ConversableAgent, UserProxyAgent\n",
    "from dotenv import load_dotenv\n",
    "\n",
    "\n",
    "load_dotenv() # load environment variables from .env file"
   ]
  },
  {
   "cell_type": "code",
   "execution_count": 2,
   "id": "a9c9f5f5-83e2-4c18-a8b8-69cbb1b3f70f",
   "metadata": {},
   "outputs": [],
   "source": [
    "## llm configuration\n",
    "llm_config ={\n",
    "                \"model\": \"gpt-4o\",\n",
    "                \"api_key\": os.getenv(\"OPENAI_API_KEY\")\n",
    "            }"
   ]
  },
  {
   "cell_type": "markdown",
   "id": "7783e7a0-65ef-4b79-9398-f049c23e0a87",
   "metadata": {},
   "source": [
    "## Manager Proxy Agent"
   ]
  },
  {
   "cell_type": "code",
   "execution_count": null,
   "id": "9d22415f-9a8e-40de-910c-bd6af1d26ed6",
   "metadata": {},
   "outputs": [],
   "source": []
  },
  {
   "cell_type": "markdown",
   "id": "c8661421-9f43-472d-97e4-deb5421497e3",
   "metadata": {},
   "source": [
    "## Idea Generator Agent"
   ]
  },
  {
   "cell_type": "code",
   "execution_count": null,
   "id": "24647a18-4c1a-4ed1-8f02-3b9816351917",
   "metadata": {},
   "outputs": [],
   "source": []
  },
  {
   "cell_type": "markdown",
   "id": "88ccaebe-5273-4535-b191-c39175e3bec6",
   "metadata": {},
   "source": [
    "## Script Writer Agent"
   ]
  },
  {
   "cell_type": "code",
   "execution_count": null,
   "id": "a4aa0e6d-e205-435f-b668-e982b59408a8",
   "metadata": {},
   "outputs": [],
   "source": []
  },
  {
   "cell_type": "markdown",
   "id": "c35069f7-ba60-4446-94ff-3a72eedd8ef3",
   "metadata": {},
   "source": [
    "## Script Reviewer Agent"
   ]
  },
  {
   "cell_type": "code",
   "execution_count": null,
   "id": "caca29e0-2e1c-4fe6-994d-1f78d615c3fa",
   "metadata": {},
   "outputs": [],
   "source": []
  }
 ],
 "metadata": {
  "kernelspec": {
   "display_name": "Python 3 (ipykernel)",
   "language": "python",
   "name": "python3"
  },
  "language_info": {
   "codemirror_mode": {
    "name": "ipython",
    "version": 3
   },
   "file_extension": ".py",
   "mimetype": "text/x-python",
   "name": "python",
   "nbconvert_exporter": "python",
   "pygments_lexer": "ipython3",
   "version": "3.12.3"
  }
 },
 "nbformat": 4,
 "nbformat_minor": 5
}
