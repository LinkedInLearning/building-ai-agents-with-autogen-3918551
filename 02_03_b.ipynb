{
 "cells": [
  {
   "cell_type": "markdown",
   "id": "1ae76b94-830a-4c95-9d44-bec7ec0a5036",
   "metadata": {},
   "source": [
    "# 02_03 - Creating agents for the Assistant"
   ]
  },
  {
   "cell_type": "code",
   "execution_count": 1,
   "id": "17317c37-ecd5-4791-a2d3-cb86e58cf3c4",
   "metadata": {},
   "outputs": [
    {
     "data": {
      "text/plain": [
       "False"
      ]
     },
     "execution_count": 1,
     "metadata": {},
     "output_type": "execute_result"
    }
   ],
   "source": [
    "## import required libraries\n",
    "import os\n",
    "from autogen import ConversableAgent, UserProxyAgent\n",
    "from dotenv import load_dotenv\n",
    "\n",
    "\n",
    "load_dotenv() # load environment variables from .env file"
   ]
  },
  {
   "cell_type": "code",
   "execution_count": 2,
   "id": "a9c9f5f5-83e2-4c18-a8b8-69cbb1b3f70f",
   "metadata": {},
   "outputs": [],
   "source": [
    "## llm configuration\n",
    "llm_config ={\n",
    "                \"model\": \"gpt-4o\",\n",
    "                \"api_key\": os.getenv(\"OPENAI_API_KEY\")\n",
    "            }"
   ]
  },
  {
   "cell_type": "markdown",
   "id": "94635c15-6d4a-4709-b497-9f4c44084ec0",
   "metadata": {},
   "source": [
    "## Manager Proxy Agent"
   ]
  },
  {
   "cell_type": "code",
   "execution_count": null,
   "id": "8bfb376c-3f41-49d1-91d9-5f05e3a6012a",
   "metadata": {},
   "outputs": [],
   "source": []
  },
  {
   "cell_type": "markdown",
   "id": "79100c29-9477-4f41-9c53-1b09c52ac494",
   "metadata": {},
   "source": [
    "## Idea Generator Agent"
   ]
  },
  {
   "cell_type": "code",
   "execution_count": null,
   "id": "8d654a6f-c025-4eef-ae23-80896c0b5f35",
   "metadata": {},
   "outputs": [],
   "source": []
  },
  {
   "cell_type": "markdown",
   "id": "85dc8bdd-994e-4312-966a-d332b992e1c9",
   "metadata": {},
   "source": [
    "## Script Writer Agent"
   ]
  },
  {
   "cell_type": "code",
   "execution_count": null,
   "id": "2748681b-8949-4327-a0a5-31ca497ef353",
   "metadata": {},
   "outputs": [],
   "source": []
  },
  {
   "cell_type": "markdown",
   "id": "b7c346f3-903b-44eb-be6e-fdbd2b9d4a17",
   "metadata": {},
   "source": [
    "## Script Reviewer Agent"
   ]
  },
  {
   "cell_type": "code",
   "execution_count": null,
   "id": "f15e12bc-89b6-45f8-958b-19975f558ea9",
   "metadata": {},
   "outputs": [],
   "source": []
  }
 ],
 "metadata": {
  "kernelspec": {
   "display_name": "Python 3 (ipykernel)",
   "language": "python",
   "name": "python3"
  },
  "language_info": {
   "codemirror_mode": {
    "name": "ipython",
    "version": 3
   },
   "file_extension": ".py",
   "mimetype": "text/x-python",
   "name": "python",
   "nbconvert_exporter": "python",
   "pygments_lexer": "ipython3",
   "version": "3.12.3"
  }
 },
 "nbformat": 4,
 "nbformat_minor": 5
}
