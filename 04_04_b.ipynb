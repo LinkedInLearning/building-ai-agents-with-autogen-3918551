{
 "cells": [
  {
   "cell_type": "markdown",
   "id": "ce5aa41a-0274-4af2-a5c5-efea984b590f",
   "metadata": {},
   "source": [
    "# Add web search ability to research assistant"
   ]
  },
  {
   "cell_type": "code",
   "execution_count": null,
   "id": "303b4c47-0e26-4c46-a858-354c1ea937d9",
   "metadata": {},
   "outputs": [],
   "source": [
    "! pip install \"pyautogen>=0.2.18\" \"tavily-python\""
   ]
  },
  {
   "cell_type": "code",
   "execution_count": 1,
   "id": "d9712cce-d65c-406c-ba4d-67f4315d43f5",
   "metadata": {},
   "outputs": [
    {
     "data": {
      "text/plain": [
       "False"
      ]
     },
     "execution_count": 1,
     "metadata": {},
     "output_type": "execute_result"
    }
   ],
   "source": [
    "## import required libraries\n",
    "import os\n",
    "from typing import Annotated\n",
    "\n",
    "from tavily import TavilyClient\n",
    "\n",
    "from autogen import AssistantAgent, UserProxyAgent, config_list_from_json, register_function\n",
    "from autogen.agentchat.contrib.capabilities import teachability\n",
    "from autogen.cache import Cache\n",
    "from autogen.coding import DockerCommandLineCodeExecutor, LocalCommandLineCodeExecutor\n",
    "\n",
    "\n",
    "load_dotenv() # load environment variables from .env file"
   ]
  },
  {
   "cell_type": "code",
   "execution_count": 2,
   "id": "b6d31702-1b73-4191-9c0c-32e7728b7968",
   "metadata": {},
   "outputs": [],
   "source": [
    "## llm configuration\n",
    "llm_config ={\n",
    "                \"model\": \"gpt-4o\",\n",
    "                \"api_key\": os.getenv(\"OPENAI_API_KEY\")\n",
    "            }"
   ]
  },
  {
   "cell_type": "markdown",
   "id": "7e8a6b77-b67c-44b3-8d6e-dc8af7314242",
   "metadata": {},
   "source": [
    "## Tavily as a tool for searching the web"
   ]
  },
  {
   "cell_type": "code",
   "execution_count": null,
   "id": "563249ca-c861-44d4-95f2-72b55905a7a9",
   "metadata": {},
   "outputs": [],
   "source": []
  }
 ],
 "metadata": {
  "kernelspec": {
   "display_name": "Python 3 (ipykernel)",
   "language": "python",
   "name": "python3"
  },
  "language_info": {
   "codemirror_mode": {
    "name": "ipython",
    "version": 3
   },
   "file_extension": ".py",
   "mimetype": "text/x-python",
   "name": "python",
   "nbconvert_exporter": "python",
   "pygments_lexer": "ipython3",
   "version": "3.12.3"
  }
 },
 "nbformat": 4,
 "nbformat_minor": 5
}
