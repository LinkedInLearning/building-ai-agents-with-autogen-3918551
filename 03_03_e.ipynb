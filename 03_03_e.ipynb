{
 "cells": [
  {
   "cell_type": "markdown",
   "id": "ce5aa41a-0274-4af2-a5c5-efea984b590f",
   "metadata": {},
   "source": [
    "# Creating agents"
   ]
  },
  {
   "cell_type": "code",
   "execution_count": 16,
   "id": "d9712cce-d65c-406c-ba4d-67f4315d43f5",
   "metadata": {},
   "outputs": [
    {
     "data": {
      "text/plain": [
       "True"
      ]
     },
     "execution_count": 16,
     "metadata": {},
     "output_type": "execute_result"
    }
   ],
   "source": [
    "## import required libraries\n",
    "import os\n",
    "from autogen import AssistantAgent, ConversableAgent, UserProxyAgent\n",
    "from dotenv import load_dotenv\n",
    "\n",
    "\n",
    "load_dotenv(override=True) # load environment variables from .env file"
   ]
  },
  {
   "cell_type": "code",
   "execution_count": 17,
   "id": "b6d31702-1b73-4191-9c0c-32e7728b7968",
   "metadata": {},
   "outputs": [],
   "source": [
    "## llm configuration\n",
    "llm_config ={\n",
    "                \"model\": \"gpt-4o\",\n",
    "                \"api_key\": os.getenv(\"OPENAI_API_KEY\")\n",
    "            }"
   ]
  },
  {
   "cell_type": "markdown",
   "id": "a38a6692-1f6f-44d6-81bf-0eb89fe8766b",
   "metadata": {},
   "source": [
    "## Writer Agent"
   ]
  },
  {
   "cell_type": "code",
   "execution_count": 18,
   "id": "a5dea7b3-13fd-4453-a07b-08fba26a5fed",
   "metadata": {},
   "outputs": [],
   "source": [
    "writer = AssistantAgent(\n",
    "    name=\"Writer\",\n",
    "    system_message=\"You are a writer. You write engaging and concise \" \n",
    "        \"blogpost (with title) on given topics. You must polish your \"\n",
    "        \"writing based on the feedback you receive and give a refined \"\n",
    "        \"version. Only return your final work without additional comments.\",\n",
    "    llm_config=llm_config,\n",
    ")"
   ]
  },
  {
   "cell_type": "markdown",
   "id": "4f5da810-e824-4db8-bf70-76bb46cf76da",
   "metadata": {},
   "source": [
    "## Task"
   ]
  },
  {
   "cell_type": "code",
   "execution_count": 19,
   "id": "bcaace1e-7399-489f-b4e6-13dcbfc4db3f",
   "metadata": {},
   "outputs": [],
   "source": [
    "task = '''\n",
    "        Write a concise but engaging blogpost about GPUs.\n",
    "        Make sure the blogpost is within 100 words.\n",
    "       '''\n"
   ]
  },
  {
   "cell_type": "code",
   "execution_count": 20,
   "id": "e6ce6c91-b898-4bb7-a1c8-d62c43d0de3d",
   "metadata": {},
   "outputs": [],
   "source": [
    "reply = writer.generate_reply(messages=[{\"content\": task, \"role\": \"user\"}])"
   ]
  },
  {
   "cell_type": "code",
   "execution_count": 21,
   "id": "662e3d77-7222-4bd6-96d6-c320dcca5427",
   "metadata": {},
   "outputs": [
    {
     "name": "stdout",
     "output_type": "stream",
     "text": [
      "**Unlocking the Power of GPUs: The Heartbeat of Modern Technology**\n",
      "\n",
      "Graphics Processing Units (GPUs) are revolutionizing the tech world, transforming gaming, AI, and more. Originally designed for rendering images and videos, GPUs now accelerate complex computations, making them indispensable in machine learning, scientific simulations, and cryptocurrency mining. Their parallel processing capabilities enable faster data crunching, leading to innovative breakthroughs and immersive visual experiences. With advancements in GPU technology, expect even more powerful and efficient processing, driving the next wave of technological innovation. Dive into the GPU era and witness the future unfold, pixel by pixel, computation by computation.\n"
     ]
    }
   ],
   "source": [
    "print(reply)"
   ]
  },
  {
   "cell_type": "markdown",
   "id": "1b2df843-0576-4b88-87e7-a1b5cb836e62",
   "metadata": {},
   "source": [
    "## Simple review of the post"
   ]
  },
  {
   "cell_type": "code",
   "execution_count": 22,
   "id": "5d637b51-5b5c-4ccd-8b4c-25f152b4553b",
   "metadata": {},
   "outputs": [],
   "source": [
    "## reviewer agent\n",
    "reviewer = AssistantAgent(\n",
    "    name=\"Reviewer\",\n",
    "    is_termination_msg=lambda x: x.get(\"content\", \"\").find(\"TERMINATE\") >= 0,\n",
    "    llm_config=llm_config,\n",
    "    system_message=\"You are a reviewer. You review the work of \"\n",
    "                \"the writer and provide constructive \"\n",
    "                \"feedback to help improve the quality of the content.\",\n",
    ")"
   ]
  },
  {
   "cell_type": "code",
   "execution_count": 23,
   "id": "32bdb086-8bdb-4e3e-9c4f-597ffa43f9b0",
   "metadata": {},
   "outputs": [
    {
     "name": "stdout",
     "output_type": "stream",
     "text": [
      "\u001b[33mReviewer\u001b[0m (to Writer):\n",
      "\n",
      "\n",
      "        Write a concise but engaging blogpost about GPUs.\n",
      "        Make sure the blogpost is within 100 words.\n",
      "       \n",
      "\n",
      "--------------------------------------------------------------------------------\n",
      "\u001b[33mWriter\u001b[0m (to Reviewer):\n",
      "\n",
      "**Unlocking the Power of GPUs: The Heartbeat of Modern Technology**\n",
      "\n",
      "Graphics Processing Units (GPUs) are revolutionizing the tech world, transforming gaming, AI, and more. Originally designed for rendering images and videos, GPUs now accelerate complex computations, making them indispensable in machine learning, scientific simulations, and cryptocurrency mining. Their parallel processing capabilities enable faster data crunching, leading to innovative breakthroughs and immersive visual experiences. With advancements in GPU technology, expect even more powerful and efficient processing, driving the next wave of technological innovation. Dive into the GPU era and witness the future unfold, pixel by pixel, computation by computation.\n",
      "\n",
      "--------------------------------------------------------------------------------\n",
      "\u001b[33mReviewer\u001b[0m (to Writer):\n",
      "\n",
      "**Review of “Unlocking the Power of GPUs: The Heartbeat of Modern Technology”**\n",
      "\n",
      "Your blog post captures the essential role GPUs play in today's technological landscape and highlights their expanding applications beyond graphics rendering. It's concise, informative, and engaging. Here are a few areas where you could improve:\n",
      "\n",
      "1. **Clarity and Specificity**:\n",
      "   - You mention that GPUs are used in gaming, AI, and more, which is good but could benefit from slightly more specificity. For instance, mentioning real-world examples like how GPUs are used in autonomous vehicles or real-time disease detection can add depth.\n",
      "  \n",
      "2. **Technical Depth**:\n",
      "   - While keeping it reader-friendly, a brief mention of key GPU technologies such as CUDA cores or tensor processing units (TPUs) could give more context for readers familiar with tech.\n",
      "\n",
      "3. **Flow and Structure**:\n",
      "   - The blogpost flows well, but the last sentence might read smoother if rephrased for better emphasis. For instance, \"Dive into the GPU era and witness the future unfold with each pixel rendered and each computation executed.\"\n",
      "\n",
      "4. **Word Choice and Precision**:\n",
      "   - Words like \"data crunching\" are conversational but could be replaced with \"data processing\" for a more professional tone. \n",
      "   - \"Immersive visual experiences\": While this is engaging, specifying what these experiences could be (e.g., realistic VR environments) can make it more vivid.\n",
      "\n",
      "Here’s a revised version incorporating some of these suggestions:\n",
      "\n",
      "**Unlocking the Power of GPUs: The Heartbeat of Modern Technology**\n",
      "\n",
      "Graphics Processing Units (GPUs) are revolutionizing the tech world, transforming sectors from gaming to artificial intelligence and beyond. Originally designed for rendering images and videos, GPUs now accelerate complex computations, making them indispensable in machine learning, scientific research, and cryptocurrency mining. Their parallel processing capabilities enable faster data processing, driving innovative breakthroughs in fields like autonomous driving and real-time medical analysis. With constant advancements in GPU technology, expect even more powerful and efficient processing, propelling the next wave of innovation. Embrace the GPU era and witness the future unfold, one pixel and computation at a time.\n",
      "\n",
      "Feel free to adjust based on your target audience and the tone you prefer. Great work overall!\n",
      "\n",
      "--------------------------------------------------------------------------------\n",
      "\u001b[33mWriter\u001b[0m (to Reviewer):\n",
      "\n",
      "**Unlocking the Power of GPUs: The Heartbeat of Modern Technology**\n",
      "\n",
      "Graphics Processing Units (GPUs) are revolutionizing the tech world, transforming sectors from gaming to artificial intelligence and beyond. Originally designed for rendering images and videos, GPUs now accelerate complex computations, making them indispensable in fields like autonomous driving and real-time medical analysis. Their parallel processing capabilities enable faster data processing, driving innovative breakthroughs in machine learning, scientific research, and cryptocurrency mining. With constant advancements in GPU technology, expect even more powerful and efficient processing, propelling the next wave of innovation. Embrace the GPU era and witness the future unfold, one pixel and computation at a time.\n",
      "\n",
      "--------------------------------------------------------------------------------\n"
     ]
    }
   ],
   "source": [
    "res = reviewer.initiate_chat(\n",
    "    recipient=writer,\n",
    "    message=task,\n",
    "    max_turns=2,\n",
    "    summary_method=\"last_msg\"\n",
    ")"
   ]
  },
  {
   "cell_type": "markdown",
   "id": "4d56df5c-cc8a-4ee3-b30c-84c5e3d82431",
   "metadata": {},
   "source": [
    "## Adding multi-level reviews using nested chats"
   ]
  },
  {
   "cell_type": "code",
   "execution_count": 24,
   "id": "ca7906e3-cf13-4499-9e54-d6e40f711ced",
   "metadata": {},
   "outputs": [],
   "source": [
    "SEO_reviewer = AssistantAgent(\n",
    "    name=\"SEO Reviewer\",\n",
    "    llm_config=llm_config,\n",
    "    system_message=\"As an SEO expert, your role is to analyze and enhance content for optimal search engine performance. \"\n",
    "        \"Focus on providing actionable recommendations that boost rankings and drive organic traffic. \"\n",
    "        \"Limit your feedback to 3 key points, ensuring they are specific and directly applicable. \"\n",
    "        \"Start each review by introducing yourself as an SEO Reviewer.\",\n",
    ")"
   ]
  },
  {
   "cell_type": "code",
   "execution_count": 25,
   "id": "abec0a5a-cf54-4ac8-9523-8dca14ed62fd",
   "metadata": {},
   "outputs": [],
   "source": [
    "grammatical_error_reviewer = AssistantAgent(\n",
    "    name=\"Grammatical Error Reviewer\",\n",
    "    llm_config=llm_config,\n",
    "    system_message=\"As a grammar specialist, your task is to meticulously examine content \"\n",
    "        \"for grammatical errors, punctuation mistakes, and style inconsistencies. \"\n",
    "        \"Provide up to 3 key points addressing the most significant grammatical issues. \"\n",
    "        \"Ensure your feedback is specific, actionable, and includes examples where appropriate. \"\n",
    "        \"Begin each review by introducing yourself as a Grammatical Error Reviewer.\",\n",
    ")"
   ]
  },
  {
   "cell_type": "code",
   "execution_count": 26,
   "id": "a0c2fcf0-ed53-4158-ab15-a2e3af6942bc",
   "metadata": {},
   "outputs": [],
   "source": [
    "ethics_reviewer = AssistantAgent(\n",
    "    name=\"Ethics Reviewer\",\n",
    "    llm_config=llm_config,\n",
    "    system_message=\"As an ethics specialist, your role is to evaluate content for ethical integrity \"\n",
    "        \"and identify any potential moral concerns. \"\n",
    "        \"Provide up to 3 specific, actionable recommendations to address ethical issues. \"\n",
    "        \"Ensure your feedback is concise and directly applicable. \"\n",
    "        \"Start each review by introducing yourself as an Ethics Reviewer.\",\n",
    ")"
   ]
  },
  {
   "cell_type": "code",
   "execution_count": 28,
   "id": "9022617a-3484-4e69-a591-ead6fd94b18c",
   "metadata": {},
   "outputs": [],
   "source": [
    "meta_reviewer = AssistantAgent(\n",
    "    name=\"Meta Reviewer\",\n",
    "    llm_config=llm_config,\n",
    "    system_message=\"You are a meta reviewer, you aggragate and review \"\n",
    "    \"the work of other reviewers and give a final suggestion on the content.\",\n",
    ")"
   ]
  },
  {
   "cell_type": "code",
   "execution_count": null,
   "id": "b83acc09-554f-41e9-976d-85c39218afaa",
   "metadata": {},
   "outputs": [],
   "source": []
  },
  {
   "cell_type": "code",
   "execution_count": null,
   "id": "e4382cbe-844e-43ac-80f2-cf5de65f311b",
   "metadata": {},
   "outputs": [],
   "source": []
  }
 ],
 "metadata": {
  "kernelspec": {
   "display_name": "Python 3 (ipykernel)",
   "language": "python",
   "name": "python3"
  },
  "language_info": {
   "codemirror_mode": {
    "name": "ipython",
    "version": 3
   },
   "file_extension": ".py",
   "mimetype": "text/x-python",
   "name": "python",
   "nbconvert_exporter": "python",
   "pygments_lexer": "ipython3",
   "version": "3.12.6"
  }
 },
 "nbformat": 4,
 "nbformat_minor": 5
}
