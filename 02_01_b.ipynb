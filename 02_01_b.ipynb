{
 "cells": [
  {
   "cell_type": "markdown",
   "id": "27a8fbd6-5690-445a-a660-8abb82e738c0",
   "metadata": {},
   "source": [
    "## 02_01 Multi Agent Conversation"
   ]
  },
  {
   "cell_type": "code",
   "execution_count": 1,
   "id": "68750c4d-8b62-4ce5-9cfb-a60aad5a7a10",
   "metadata": {},
   "outputs": [
    {
     "data": {
      "text/plain": [
       "True"
      ]
     },
     "execution_count": 1,
     "metadata": {},
     "output_type": "execute_result"
    }
   ],
   "source": [
    "## import required libraries\n",
    "import os\n",
    "from autogen import ConversableAgent\n",
    "from dotenv import load_dotenv\n",
    "\n",
    "\n",
    "load_dotenv() # load environment variables from .env file"
   ]
  },
  {
   "cell_type": "code",
   "execution_count": null,
   "id": "0fef42ac-58ae-4590-9c31-f11022250cbf",
   "metadata": {},
   "outputs": [],
   "source": [
    "config_list = [\n",
    "            {\n",
    "                \"model\": \"gpt-4o\",\n",
    "                \"api_key\": os.getenv(\"OPENAI_API_KEY\")\n",
    "            }\n",
    "        ]"
   ]
  }
 ],
 "metadata": {
  "kernelspec": {
   "display_name": "Python 3 (ipykernel)",
   "language": "python",
   "name": "python3"
  },
  "language_info": {
   "codemirror_mode": {
    "name": "ipython",
    "version": 3
   },
   "file_extension": ".py",
   "mimetype": "text/x-python",
   "name": "python",
   "nbconvert_exporter": "python",
   "pygments_lexer": "ipython3",
   "version": "3.12.3"
  }
 },
 "nbformat": 4,
 "nbformat_minor": 5
}
