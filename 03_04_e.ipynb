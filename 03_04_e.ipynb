{
 "cells": [
  {
   "cell_type": "markdown",
   "id": "ce5aa41a-0274-4af2-a5c5-efea984b590f",
   "metadata": {},
   "source": [
    "# Orchestrate the nested chat"
   ]
  },
  {
   "cell_type": "code",
   "execution_count": 1,
   "id": "d9712cce-d65c-406c-ba4d-67f4315d43f5",
   "metadata": {},
   "outputs": [
    {
     "data": {
      "text/plain": [
       "False"
      ]
     },
     "execution_count": 1,
     "metadata": {},
     "output_type": "execute_result"
    }
   ],
   "source": [
    "## import required libraries\n",
    "import os\n",
    "from autogen import AssistantAgent, ConversableAgent, UserProxyAgent\n",
    "from dotenv import load_dotenv\n",
    "\n",
    "\n",
    "load_dotenv() # load environment variables from .env file"
   ]
  },
  {
   "cell_type": "code",
   "execution_count": 2,
   "id": "b6d31702-1b73-4191-9c0c-32e7728b7968",
   "metadata": {},
   "outputs": [],
   "source": [
    "## llm configuration\n",
    "llm_config ={\n",
    "                \"model\": \"gpt-4o\",\n",
    "                \"api_key\": os.getenv(\"OPENAI_API_KEY\")\n",
    "            }"
   ]
  },
  {
   "cell_type": "markdown",
   "id": "a38a6692-1f6f-44d6-81bf-0eb89fe8766b",
   "metadata": {},
   "source": [
    "## Writer Agent"
   ]
  },
  {
   "cell_type": "code",
   "execution_count": null,
   "id": "a5dea7b3-13fd-4453-a07b-08fba26a5fed",
   "metadata": {},
   "outputs": [],
   "source": [
    "writer = AssistantAgent(\n",
    "    name=\"Writer\",\n",
    "    system_message=\"You are a writer. You write engaging and concise \" \n",
    "        \"blogpost (with title) on given topics. You must polish your \"\n",
    "        \"writing based on the feedback you receive and give a refined \"\n",
    "        \"version. Only return your final work without additional comments.\",\n",
    "    llm_config=llm_config,\n",
    ")"
   ]
  },
  {
   "cell_type": "markdown",
   "id": "4f5da810-e824-4db8-bf70-76bb46cf76da",
   "metadata": {},
   "source": [
    "## Task"
   ]
  },
  {
   "cell_type": "code",
   "execution_count": null,
   "id": "bcaace1e-7399-489f-b4e6-13dcbfc4db3f",
   "metadata": {},
   "outputs": [],
   "source": [
    "task = '''\n",
    "        Write a concise but engaging blogpost about\n",
    "       DeepLearning.AI. Make sure the blogpost is\n",
    "       within 100 words.\n",
    "       '''\n"
   ]
  },
  {
   "cell_type": "code",
   "execution_count": 2,
   "id": "e6ce6c91-b898-4bb7-a1c8-d62c43d0de3d",
   "metadata": {},
   "outputs": [
    {
     "ename": "NameError",
     "evalue": "name 'writer' is not defined",
     "output_type": "error",
     "traceback": [
      "\u001b[0;31m---------------------------------------------------------------------------\u001b[0m",
      "\u001b[0;31mNameError\u001b[0m                                 Traceback (most recent call last)",
      "Cell \u001b[0;32mIn[2], line 1\u001b[0m\n\u001b[0;32m----> 1\u001b[0m reply \u001b[38;5;241m=\u001b[39m \u001b[43mwriter\u001b[49m\u001b[38;5;241m.\u001b[39mgenerate_reply(messages\u001b[38;5;241m=\u001b[39m[{\u001b[38;5;124m\"\u001b[39m\u001b[38;5;124mcontent\u001b[39m\u001b[38;5;124m\"\u001b[39m: task, \u001b[38;5;124m\"\u001b[39m\u001b[38;5;124mrole\u001b[39m\u001b[38;5;124m\"\u001b[39m: \u001b[38;5;124m\"\u001b[39m\u001b[38;5;124muser\u001b[39m\u001b[38;5;124m\"\u001b[39m}])\n",
      "\u001b[0;31mNameError\u001b[0m: name 'writer' is not defined"
     ]
    }
   ],
   "source": [
    "reply = writer.generate_reply(messages=[{\"content\": task, \"role\": \"user\"}])"
   ]
  },
  {
   "cell_type": "code",
   "execution_count": null,
   "id": "662e3d77-7222-4bd6-96d6-c320dcca5427",
   "metadata": {},
   "outputs": [],
   "source": [
    "print(reply)"
   ]
  },
  {
   "cell_type": "markdown",
   "id": "1b2df843-0576-4b88-87e7-a1b5cb836e62",
   "metadata": {},
   "source": [
    "## Simple review of the post"
   ]
  },
  {
   "cell_type": "code",
   "execution_count": null,
   "id": "5d637b51-5b5c-4ccd-8b4c-25f152b4553b",
   "metadata": {},
   "outputs": [],
   "source": [
    "## reviewer agent\n",
    "reviewer = AssistantAgent(\n",
    "    name=\"Reviewer\",\n",
    "    is_termination_msg=lambda x: x.get(\"content\", \"\").find(\"TERMINATE\") >= 0,\n",
    "    llm_config=llm_config,\n",
    "    system_message=\"You are a reviewer. You review the work of \"\n",
    "                \"the writer and provide constructive \"\n",
    "                \"feedback to help improve the quality of the content.\",\n",
    ")"
   ]
  },
  {
   "cell_type": "code",
   "execution_count": null,
   "id": "32bdb086-8bdb-4e3e-9c4f-597ffa43f9b0",
   "metadata": {},
   "outputs": [],
   "source": [
    "res = reviewer.initiate_chat(\n",
    "    recipient=writer,\n",
    "    message=task,\n",
    "    max_turns=2,\n",
    "    summary_method=\"last_msg\"\n",
    ")"
   ]
  },
  {
   "cell_type": "markdown",
   "id": "4d56df5c-cc8a-4ee3-b30c-84c5e3d82431",
   "metadata": {},
   "source": [
    "## Adding multi-level reviews using nested chats"
   ]
  },
  {
   "cell_type": "code",
   "execution_count": 1,
   "id": "ca7906e3-cf13-4499-9e54-d6e40f711ced",
   "metadata": {},
   "outputs": [
    {
     "ename": "NameError",
     "evalue": "name 'autogen' is not defined",
     "output_type": "error",
     "traceback": [
      "\u001b[0;31m---------------------------------------------------------------------------\u001b[0m",
      "\u001b[0;31mNameError\u001b[0m                                 Traceback (most recent call last)",
      "Cell \u001b[0;32mIn[1], line 1\u001b[0m\n\u001b[0;32m----> 1\u001b[0m SEO_reviewer \u001b[38;5;241m=\u001b[39m \u001b[43mautogen\u001b[49m\u001b[38;5;241m.\u001b[39mAssistantAgent(\n\u001b[1;32m      2\u001b[0m     name\u001b[38;5;241m=\u001b[39m\u001b[38;5;124m\"\u001b[39m\u001b[38;5;124mSEO Reviewer\u001b[39m\u001b[38;5;124m\"\u001b[39m,\n\u001b[1;32m      3\u001b[0m     llm_config\u001b[38;5;241m=\u001b[39mllm_config,\n\u001b[1;32m      4\u001b[0m     system_message\u001b[38;5;241m=\u001b[39m\u001b[38;5;124m\"\u001b[39m\u001b[38;5;124mAs an SEO expert, your role is to analyze and enhance content for optimal search engine performance. \u001b[39m\u001b[38;5;124m\"\u001b[39m\n\u001b[1;32m      5\u001b[0m         \u001b[38;5;124m\"\u001b[39m\u001b[38;5;124mFocus on providing actionable recommendations that boost rankings and drive organic traffic. \u001b[39m\u001b[38;5;124m\"\u001b[39m\n\u001b[1;32m      6\u001b[0m         \u001b[38;5;124m\"\u001b[39m\u001b[38;5;124mLimit your feedback to 3 key points, ensuring they are specific and directly applicable. \u001b[39m\u001b[38;5;124m\"\u001b[39m\n\u001b[1;32m      7\u001b[0m         \u001b[38;5;124m\"\u001b[39m\u001b[38;5;124mStart each review by introducing yourself as an SEO Reviewer.\u001b[39m\u001b[38;5;124m\"\u001b[39m,\n\u001b[1;32m      8\u001b[0m )\n",
      "\u001b[0;31mNameError\u001b[0m: name 'autogen' is not defined"
     ]
    }
   ],
   "source": [
    "SEO_reviewer = AssistantAgent(\n",
    "    name=\"SEO Reviewer\",\n",
    "    llm_config=llm_config,\n",
    "    system_message=\"As an SEO expert, your role is to analyze and enhance content for optimal search engine performance. \"\n",
    "        \"Focus on providing actionable recommendations that boost rankings and drive organic traffic. \"\n",
    "        \"Limit your feedback to 3 key points, ensuring they are specific and directly applicable. \"\n",
    "        \"Start each review by introducing yourself as an SEO Reviewer.\",\n",
    ")"
   ]
  },
  {
   "cell_type": "code",
   "execution_count": null,
   "id": "abec0a5a-cf54-4ac8-9523-8dca14ed62fd",
   "metadata": {},
   "outputs": [],
   "source": [
    "grammatical_error_reviewer = AssistantAgent(\n",
    "    name=\"Grammatical Error Reviewer\",\n",
    "    llm_config=llm_config,\n",
    "    system_message=\"As a grammar specialist, your task is to meticulously examine content \"\n",
    "        \"for grammatical errors, punctuation mistakes, and style inconsistencies. \"\n",
    "        \"Provide up to 3 key points addressing the most significant grammatical issues. \"\n",
    "        \"Ensure your feedback is specific, actionable, and includes examples where appropriate. \"\n",
    "        \"Begin each review by introducing yourself as a Grammatical Error Reviewer.\",\n",
    ")"
   ]
  },
  {
   "cell_type": "code",
   "execution_count": null,
   "id": "a0c2fcf0-ed53-4158-ab15-a2e3af6942bc",
   "metadata": {},
   "outputs": [],
   "source": [
    "ethics_reviewer = AssistantAgent(\n",
    "    name=\"Ethics Reviewer\",\n",
    "    llm_config=llm_config,\n",
    "    system_message=\"As an ethics specialist, your role is to evaluate content for ethical integrity \"\n",
    "        \"and identify any potential moral concerns. \"\n",
    "        \"Provide up to 3 specific, actionable recommendations to address ethical issues. \"\n",
    "        \"Ensure your feedback is concise and directly applicable. \"\n",
    "        \"Start each review by introducing yourself as an Ethics Reviewer.\",\n",
    ")"
   ]
  },
  {
   "cell_type": "code",
   "execution_count": null,
   "id": "808f142a-7547-4486-a033-c754a5afc2c0",
   "metadata": {},
   "outputs": [],
   "source": [
    "meta_reviewer = autogen.AssistantAgent(\n",
    "    name=\"Meta Reviewer\",\n",
    "    llm_config=llm_config,\n",
    "    system_message=\"You are a meta reviewer, you aggragate and review \"\n",
    "    \"the work of other reviewers and give a final suggestion on the content.\",\n",
    ")"
   ]
  },
  {
   "cell_type": "markdown",
   "id": "b09a44cd-823c-47a6-aeb5-30716e42bf96",
   "metadata": {},
   "source": [
    "## Orchestrating the nested chat"
   ]
  },
  {
   "cell_type": "code",
   "execution_count": null,
   "id": "3b1b310f-19f3-4e3e-b558-d3bfec10d946",
   "metadata": {},
   "outputs": [],
   "source": [
    "def reflection_message(recipient, messages, sender, config):\n",
    "    return f'''Review the following content. \n",
    "            \\n\\n {recipient.chat_messages_for_summary(sender)[-1]['content']}'''\n",
    "\n",
    "review_chats = [\n",
    "    {\n",
    "     \"recipient\": SEO_reviewer, \n",
    "     \"message\": reflection_message, \n",
    "     \"summary_method\": \"reflection_with_llm\",\n",
    "     \"summary_args\": {\"summary_prompt\" : \n",
    "        \"Return review into as JSON object only:\"\n",
    "        \"{'Reviewer': '', 'Review': ''}. Here Reviewer should be your role\",},\n",
    "     \"max_turns\": 1},\n",
    "    {\n",
    "    \"recipient\": grammatical_error_reviewer, \"message\": reflection_message, \n",
    "     \"summary_method\": \"reflection_with_llm\",\n",
    "     \"summary_args\": {\"summary_prompt\" : \n",
    "        \"Return review into as JSON object only:\"\n",
    "        \"{'Reviewer': '', 'Review': ''}.\",},\n",
    "     \"max_turns\": 1},\n",
    "    {\"recipient\": ethics_reviewer, \"message\": reflection_message, \n",
    "     \"summary_method\": \"reflection_with_llm\",\n",
    "     \"summary_args\": {\"summary_prompt\" : \n",
    "        \"Return review into as JSON object only:\"\n",
    "        \"{'reviewer': '', 'review': ''}\",},\n",
    "     \"max_turns\": 1},\n",
    "     {\"recipient\": meta_reviewer, \n",
    "      \"message\": \"Aggregrate feedback from all reviewers and give final suggestions on the writing.\", \n",
    "     \"max_turns\": 1},\n",
    "]\n"
   ]
  },
  {
   "cell_type": "code",
   "execution_count": null,
   "id": "ab21d6db-3b05-46f3-802b-303b132d6c77",
   "metadata": {},
   "outputs": [],
   "source": [
    "critic.register_nested_chats(\n",
    "    review_chats,\n",
    "    trigger=writer,\n",
    ")"
   ]
  },
  {
   "cell_type": "code",
   "execution_count": null,
   "id": "f15cf62a-86ad-433b-8839-5f0550d1ac33",
   "metadata": {},
   "outputs": [],
   "source": [
    "res = critic.initiate_chat(\n",
    "    recipient=writer,\n",
    "    message=task,\n",
    "    max_turns=2,\n",
    "    summary_method=\"last_msg\"\n",
    ")"
   ]
  },
  {
   "cell_type": "markdown",
   "id": "097a6f78-cce7-4cb4-89dd-0d32f4ca03a7",
   "metadata": {},
   "source": [
    "## Get summary"
   ]
  },
  {
   "cell_type": "code",
   "execution_count": null,
   "id": "7cf69cef-8dab-47c3-b2ef-8af2ccba0e3d",
   "metadata": {},
   "outputs": [],
   "source": [
    "print(res.summary)"
   ]
  }
 ],
 "metadata": {
  "kernelspec": {
   "display_name": "Python 3 (ipykernel)",
   "language": "python",
   "name": "python3"
  },
  "language_info": {
   "codemirror_mode": {
    "name": "ipython",
    "version": 3
   },
   "file_extension": ".py",
   "mimetype": "text/x-python",
   "name": "python",
   "nbconvert_exporter": "python",
   "pygments_lexer": "ipython3",
   "version": "3.12.3"
  }
 },
 "nbformat": 4,
 "nbformat_minor": 5
}
