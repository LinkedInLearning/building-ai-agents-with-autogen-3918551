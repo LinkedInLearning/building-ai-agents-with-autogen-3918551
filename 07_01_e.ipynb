{
 "cells": [
  {
   "cell_type": "markdown",
   "id": "ce5aa41a-0274-4af2-a5c5-efea984b590f",
   "metadata": {},
   "source": [
    "# Building a applied research lab with Group Chat"
   ]
  },
  {
   "cell_type": "code",
   "execution_count": null,
   "id": "d9712cce-d65c-406c-ba4d-67f4315d43f5",
   "metadata": {},
   "outputs": [],
   "source": [
    "## import required libraries\n",
    "import os\n",
    "from autogen import UserProxyAgent, AssistantAgent, GroupChat, GroupChatManager\n",
    "from autogen import ConversableAgent\n",
    "from dotenv import load_dotenv\n",
    "\n",
    "load_dotenv(override=True) # load environment variables from .env file"
   ]
  },
  {
   "cell_type": "code",
   "execution_count": null,
   "id": "b6d31702-1b73-4191-9c0c-32e7728b7968",
   "metadata": {},
   "outputs": [],
   "source": [
    "## llm configuration\n",
    "llm_config ={\n",
    "                \"model\": \"gpt-4o\",\n",
    "                \"api_key\": os.getenv(\"OPENAI_API_KEY\")\n",
    "            }"
   ]
  },
  {
   "cell_type": "markdown",
   "id": "525be306-0a08-4404-ae09-219b51417a18",
   "metadata": {},
   "source": [
    "## The task!"
   ]
  },
  {
   "cell_type": "code",
   "execution_count": null,
   "id": "202bf45c-112f-4351-bc7a-9162fa890a28",
   "metadata": {},
   "outputs": [],
   "source": [
    "task = \"\"\"Write a detailed weather analysis report for New York City\n",
    "          over the past week. Today's date is 2024-08-23Let's "
   ]
  },
  {
   "cell_type": "markdown",
   "id": "ac20c0b0-0bfa-483c-8044-c068a0b5c905",
   "metadata": {},
   "source": [
    "## Create a group chat\n",
    "\n",
    "This group chat will include these agents:\n",
    "\n",
    "- User_proxy or Admin: to allow the user to comment on the report and ask the writer to refine it.\n",
    "- Planner: to determine relevant information needed to complete the task.\n",
    "- Engineer: to write code using the defined plan by the planner.\n",
    "- Executor: to execute the code written by the engineer.\n",
    "- Writer: to write the report."
   ]
  },
  {
   "cell_type": "code",
   "execution_count": null,
   "id": "bdf2410d-a53b-4cb5-883a-bc345bac874e",
   "metadata": {},
   "outputs": [],
   "source": [
    "## user or admin agent\n",
    "user_proxy = UserProxyAgent(\n",
    "    name=\"Admin\",\n",
    "    system_message=\"A human admin. Interact with the planner to discuss the plan. Plan execution needs to be approved by this admin.\",\n",
    "    code_execution_config=False,\n",
    "    lm_config=llm_config,\n",
    "    human_input_mode=\"ALWAYS\",\n",
    ")"
   ]
  },
  {
   "cell_type": "code",
   "execution_count": null,
   "id": "49e4bc18-c4b1-4533-a79a-7a6a7bce506e",
   "metadata": {},
   "outputs": [],
   "source": [
    "planner = autogen.AssistantAgent(\n",
    "    name=\"Planner\",\n",
    "    system_message=\"\"\"Planner. Suggest a plan. Revise the plan based on feedback from admin and critic, until admin approval.\n",
    "            The plan may involve an engineer who can write code and a scientist who doesn't write code.\n",
    "            Explain the plan first. Be clear which step is performed by an engineer, and which step is performed by a scientist.\n",
    "            \"\"\",\n",
    "    llm_config=llm_config\n",
    ")"
   ]
  },
  {
   "cell_type": "code",
   "execution_count": null,
   "id": "a562cdcc-d845-48c2-8a1d-22ec229239d0",
   "metadata": {},
   "outputs": [],
   "source": [
    "## engineer agent\n",
    "engineer = AssistantAgent(\n",
    "    name=\"Engineer\",\n",
    "    llm_config=gpt4_config,\n",
    "    system_message=\"\"\"Engineer. You follow an approved plan. You write python/shell code to solve tasks. \n",
    "    Wrap the code in a code block that specifies the script type. The user can't modify your code. \n",
    "    So do not suggest incomplete code which requires others to modify. \n",
    "    Don't use a code block if it's not intended to be executed by the executor.\n",
    "    Don't include multiple code blocks in one response. \n",
    "    Do not ask others to copy and paste the result. \n",
    "    Check the execution result returned by the executor.\n",
    "    If the result indicates there is an error, fix the error and output the code again. \n",
    "    Suggest the full code instead of partial code or code changes. \n",
    "    If the error can't be fixed or if the task is not solved even after the code is executed successfully, \n",
    "    analyze the problem, revisit your assumption, collect additional info you need, and think of a different approach to try.\n",
    "    \"\"\",\n",
    ")"
   ]
  },
  {
   "cell_type": "code",
   "execution_count": null,
   "id": "a54471b5-3891-494e-a3b3-6d096a647b5c",
   "metadata": {},
   "outputs": [],
   "source": [
    "## executor agent\n",
    "executor = autogen.UserProxyAgent(\n",
    "    name=\"Executor\",\n",
    "    system_message=\"Executor. Execute the code written by the engineer and report the result.\",\n",
    "    human_input_mode=\"NEVER\",\n",
    "    code_execution_config={\n",
    "        \"last_n_messages\": 3,\n",
    "        \"work_dir\": \"paper\",\n",
    "        \"use_docker\": False,\n",
    "    },\n",
    ")"
   ]
  },
  {
   "cell_type": "code",
   "execution_count": null,
   "id": "75257745-74fc-4f58-95b5-466a9e0febdb",
   "metadata": {},
   "outputs": [],
   "source": [
    "## scientist agent\n",
    "scientist_writer = autogen.AssistantAgent(\n",
    "    name=\"Scientist/Writer\",\n",
    "    llm_config=gpt4_config,\n",
    "    system_message=\"\"\"Scientist/Writer. \n",
    "    You follow an approved plan. \n",
    "    Your role is to analyze and summarize research papers collected by the engineer. \n",
    "    You provide scientific expertise, interpret results, and write comprehensive summaries and analyses. \n",
    "    You can also suggest areas for further research or data collection.\"\"\",\n",
    ")"
   ]
  },
  {
   "cell_type": "code",
   "execution_count": null,
   "id": "f47b2f93-59c6-459c-8cb9-881b3837e5ac",
   "metadata": {},
   "outputs": [],
   "source": []
  },
  {
   "cell_type": "code",
   "execution_count": null,
   "id": "b5c791c7-b2e5-458d-8679-ebce9e9b40c4",
   "metadata": {},
   "outputs": [],
   "source": []
  },
  {
   "cell_type": "code",
   "execution_count": null,
   "id": "ed8daf02-6772-40a0-8fd8-04a26e849547",
   "metadata": {},
   "outputs": [],
   "source": []
  },
  {
   "cell_type": "code",
   "execution_count": null,
   "id": "a6fd231c-8c85-4491-b2c2-5fb318d2eb27",
   "metadata": {},
   "outputs": [],
   "source": []
  }
 ],
 "metadata": {
  "kernelspec": {
   "display_name": "Python 3 (ipykernel)",
   "language": "python",
   "name": "python3"
  },
  "language_info": {
   "codemirror_mode": {
    "name": "ipython",
    "version": 3
   },
   "file_extension": ".py",
   "mimetype": "text/x-python",
   "name": "python",
   "nbconvert_exporter": "python",
   "pygments_lexer": "ipython3",
   "version": "3.12.6"
  }
 },
 "nbformat": 4,
 "nbformat_minor": 5
}
