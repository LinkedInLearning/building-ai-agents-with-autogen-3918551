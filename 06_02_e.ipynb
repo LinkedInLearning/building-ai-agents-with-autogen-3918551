{
 "cells": [
  {
   "cell_type": "markdown",
   "id": "ce5aa41a-0274-4af2-a5c5-efea984b590f",
   "metadata": {},
   "source": [
    "# Teachable Agents"
   ]
  },
  {
   "cell_type": "code",
   "execution_count": 1,
   "id": "f44ef9df-79c1-42af-9d20-225c032db422",
   "metadata": {},
   "outputs": [
    {
     "name": "stdout",
     "output_type": "stream",
     "text": [
      "Requirement already satisfied: pyautogen[teachable] in ./.autogen_env/lib/python3.12/site-packages (0.2.34)\n",
      "Requirement already satisfied: diskcache in ./.autogen_env/lib/python3.12/site-packages (from pyautogen[teachable]) (5.6.3)\n",
      "Requirement already satisfied: docker in ./.autogen_env/lib/python3.12/site-packages (from pyautogen[teachable]) (7.1.0)\n",
      "Requirement already satisfied: flaml in ./.autogen_env/lib/python3.12/site-packages (from pyautogen[teachable]) (2.2.0)\n",
      "Requirement already satisfied: numpy<2,>=1.17.0 in ./.autogen_env/lib/python3.12/site-packages (from pyautogen[teachable]) (1.26.4)\n",
      "Requirement already satisfied: openai>=1.3 in ./.autogen_env/lib/python3.12/site-packages (from pyautogen[teachable]) (1.41.0)\n",
      "Requirement already satisfied: packaging in ./.autogen_env/lib/python3.12/site-packages (from pyautogen[teachable]) (24.1)\n",
      "Requirement already satisfied: pydantic!=2.6.0,<3,>=1.10 in ./.autogen_env/lib/python3.12/site-packages (from pyautogen[teachable]) (2.8.2)\n",
      "Requirement already satisfied: python-dotenv in ./.autogen_env/lib/python3.12/site-packages (from pyautogen[teachable]) (1.0.1)\n",
      "Requirement already satisfied: termcolor in ./.autogen_env/lib/python3.12/site-packages (from pyautogen[teachable]) (2.4.0)\n",
      "Requirement already satisfied: tiktoken in ./.autogen_env/lib/python3.12/site-packages (from pyautogen[teachable]) (0.7.0)\n",
      "Requirement already satisfied: chromadb in ./.autogen_env/lib/python3.12/site-packages (from pyautogen[teachable]) (0.5.11)\n",
      "Requirement already satisfied: anyio<5,>=3.5.0 in ./.autogen_env/lib/python3.12/site-packages (from openai>=1.3->pyautogen[teachable]) (4.4.0)\n",
      "Requirement already satisfied: distro<2,>=1.7.0 in ./.autogen_env/lib/python3.12/site-packages (from openai>=1.3->pyautogen[teachable]) (1.9.0)\n",
      "Requirement already satisfied: httpx<1,>=0.23.0 in ./.autogen_env/lib/python3.12/site-packages (from openai>=1.3->pyautogen[teachable]) (0.27.0)\n",
      "Requirement already satisfied: jiter<1,>=0.4.0 in ./.autogen_env/lib/python3.12/site-packages (from openai>=1.3->pyautogen[teachable]) (0.5.0)\n",
      "Requirement already satisfied: sniffio in ./.autogen_env/lib/python3.12/site-packages (from openai>=1.3->pyautogen[teachable]) (1.3.1)\n",
      "Requirement already satisfied: tqdm>4 in ./.autogen_env/lib/python3.12/site-packages (from openai>=1.3->pyautogen[teachable]) (4.66.5)\n",
      "Requirement already satisfied: typing-extensions<5,>=4.11 in ./.autogen_env/lib/python3.12/site-packages (from openai>=1.3->pyautogen[teachable]) (4.12.2)\n",
      "Requirement already satisfied: annotated-types>=0.4.0 in ./.autogen_env/lib/python3.12/site-packages (from pydantic!=2.6.0,<3,>=1.10->pyautogen[teachable]) (0.7.0)\n",
      "Requirement already satisfied: pydantic-core==2.20.1 in ./.autogen_env/lib/python3.12/site-packages (from pydantic!=2.6.0,<3,>=1.10->pyautogen[teachable]) (2.20.1)\n",
      "Requirement already satisfied: build>=1.0.3 in ./.autogen_env/lib/python3.12/site-packages (from chromadb->pyautogen[teachable]) (1.2.2)\n",
      "Requirement already satisfied: chroma-hnswlib==0.7.6 in ./.autogen_env/lib/python3.12/site-packages (from chromadb->pyautogen[teachable]) (0.7.6)\n",
      "Requirement already satisfied: fastapi>=0.95.2 in ./.autogen_env/lib/python3.12/site-packages (from chromadb->pyautogen[teachable]) (0.115.0)\n",
      "Requirement already satisfied: uvicorn>=0.18.3 in ./.autogen_env/lib/python3.12/site-packages (from uvicorn[standard]>=0.18.3->chromadb->pyautogen[teachable]) (0.31.0)\n",
      "Requirement already satisfied: posthog>=2.4.0 in ./.autogen_env/lib/python3.12/site-packages (from chromadb->pyautogen[teachable]) (3.6.6)\n",
      "Requirement already satisfied: onnxruntime>=1.14.1 in ./.autogen_env/lib/python3.12/site-packages (from chromadb->pyautogen[teachable]) (1.19.2)\n",
      "Requirement already satisfied: opentelemetry-api>=1.2.0 in ./.autogen_env/lib/python3.12/site-packages (from chromadb->pyautogen[teachable]) (1.27.0)\n",
      "Requirement already satisfied: opentelemetry-exporter-otlp-proto-grpc>=1.2.0 in ./.autogen_env/lib/python3.12/site-packages (from chromadb->pyautogen[teachable]) (1.27.0)\n",
      "Requirement already satisfied: opentelemetry-instrumentation-fastapi>=0.41b0 in ./.autogen_env/lib/python3.12/site-packages (from chromadb->pyautogen[teachable]) (0.48b0)\n",
      "Requirement already satisfied: opentelemetry-sdk>=1.2.0 in ./.autogen_env/lib/python3.12/site-packages (from chromadb->pyautogen[teachable]) (1.27.0)\n",
      "Requirement already satisfied: tokenizers>=0.13.2 in ./.autogen_env/lib/python3.12/site-packages (from chromadb->pyautogen[teachable]) (0.20.0)\n",
      "Requirement already satisfied: pypika>=0.48.9 in ./.autogen_env/lib/python3.12/site-packages (from chromadb->pyautogen[teachable]) (0.48.9)\n",
      "Requirement already satisfied: overrides>=7.3.1 in ./.autogen_env/lib/python3.12/site-packages (from chromadb->pyautogen[teachable]) (7.7.0)\n",
      "Requirement already satisfied: importlib-resources in ./.autogen_env/lib/python3.12/site-packages (from chromadb->pyautogen[teachable]) (6.4.5)\n",
      "Requirement already satisfied: grpcio>=1.58.0 in ./.autogen_env/lib/python3.12/site-packages (from chromadb->pyautogen[teachable]) (1.66.2)\n",
      "Requirement already satisfied: bcrypt>=4.0.1 in ./.autogen_env/lib/python3.12/site-packages (from chromadb->pyautogen[teachable]) (4.2.0)\n",
      "Requirement already satisfied: typer>=0.9.0 in ./.autogen_env/lib/python3.12/site-packages (from chromadb->pyautogen[teachable]) (0.12.5)\n",
      "Requirement already satisfied: kubernetes>=28.1.0 in ./.autogen_env/lib/python3.12/site-packages (from chromadb->pyautogen[teachable]) (31.0.0)\n",
      "Requirement already satisfied: tenacity>=8.2.3 in ./.autogen_env/lib/python3.12/site-packages (from chromadb->pyautogen[teachable]) (9.0.0)\n",
      "Requirement already satisfied: PyYAML>=6.0.0 in ./.autogen_env/lib/python3.12/site-packages (from chromadb->pyautogen[teachable]) (6.0.2)\n",
      "Requirement already satisfied: mmh3>=4.0.1 in ./.autogen_env/lib/python3.12/site-packages (from chromadb->pyautogen[teachable]) (5.0.1)\n",
      "Requirement already satisfied: orjson>=3.9.12 in ./.autogen_env/lib/python3.12/site-packages (from chromadb->pyautogen[teachable]) (3.10.7)\n",
      "Requirement already satisfied: rich>=10.11.0 in ./.autogen_env/lib/python3.12/site-packages (from chromadb->pyautogen[teachable]) (13.8.1)\n",
      "Requirement already satisfied: requests>=2.26.0 in ./.autogen_env/lib/python3.12/site-packages (from docker->pyautogen[teachable]) (2.32.3)\n",
      "Requirement already satisfied: urllib3>=1.26.0 in ./.autogen_env/lib/python3.12/site-packages (from docker->pyautogen[teachable]) (2.2.2)\n",
      "Requirement already satisfied: regex>=2022.1.18 in ./.autogen_env/lib/python3.12/site-packages (from tiktoken->pyautogen[teachable]) (2024.7.24)\n",
      "Requirement already satisfied: idna>=2.8 in ./.autogen_env/lib/python3.12/site-packages (from anyio<5,>=3.5.0->openai>=1.3->pyautogen[teachable]) (3.7)\n",
      "Requirement already satisfied: pyproject_hooks in ./.autogen_env/lib/python3.12/site-packages (from build>=1.0.3->chromadb->pyautogen[teachable]) (1.2.0)\n",
      "Requirement already satisfied: starlette<0.39.0,>=0.37.2 in ./.autogen_env/lib/python3.12/site-packages (from fastapi>=0.95.2->chromadb->pyautogen[teachable]) (0.38.6)\n",
      "Requirement already satisfied: certifi in ./.autogen_env/lib/python3.12/site-packages (from httpx<1,>=0.23.0->openai>=1.3->pyautogen[teachable]) (2024.7.4)\n",
      "Requirement already satisfied: httpcore==1.* in ./.autogen_env/lib/python3.12/site-packages (from httpx<1,>=0.23.0->openai>=1.3->pyautogen[teachable]) (1.0.5)\n",
      "Requirement already satisfied: h11<0.15,>=0.13 in ./.autogen_env/lib/python3.12/site-packages (from httpcore==1.*->httpx<1,>=0.23.0->openai>=1.3->pyautogen[teachable]) (0.14.0)\n",
      "Requirement already satisfied: six>=1.9.0 in ./.autogen_env/lib/python3.12/site-packages (from kubernetes>=28.1.0->chromadb->pyautogen[teachable]) (1.16.0)\n",
      "Requirement already satisfied: python-dateutil>=2.5.3 in ./.autogen_env/lib/python3.12/site-packages (from kubernetes>=28.1.0->chromadb->pyautogen[teachable]) (2.9.0.post0)\n",
      "Requirement already satisfied: google-auth>=1.0.1 in ./.autogen_env/lib/python3.12/site-packages (from kubernetes>=28.1.0->chromadb->pyautogen[teachable]) (2.35.0)\n",
      "Requirement already satisfied: websocket-client!=0.40.0,!=0.41.*,!=0.42.*,>=0.32.0 in ./.autogen_env/lib/python3.12/site-packages (from kubernetes>=28.1.0->chromadb->pyautogen[teachable]) (1.8.0)\n",
      "Requirement already satisfied: requests-oauthlib in ./.autogen_env/lib/python3.12/site-packages (from kubernetes>=28.1.0->chromadb->pyautogen[teachable]) (2.0.0)\n",
      "Requirement already satisfied: oauthlib>=3.2.2 in ./.autogen_env/lib/python3.12/site-packages (from kubernetes>=28.1.0->chromadb->pyautogen[teachable]) (3.2.2)\n",
      "Requirement already satisfied: durationpy>=0.7 in ./.autogen_env/lib/python3.12/site-packages (from kubernetes>=28.1.0->chromadb->pyautogen[teachable]) (0.7)\n",
      "Requirement already satisfied: coloredlogs in ./.autogen_env/lib/python3.12/site-packages (from onnxruntime>=1.14.1->chromadb->pyautogen[teachable]) (15.0.1)\n",
      "Requirement already satisfied: flatbuffers in ./.autogen_env/lib/python3.12/site-packages (from onnxruntime>=1.14.1->chromadb->pyautogen[teachable]) (24.3.25)\n",
      "Requirement already satisfied: protobuf in ./.autogen_env/lib/python3.12/site-packages (from onnxruntime>=1.14.1->chromadb->pyautogen[teachable]) (4.25.5)\n",
      "Requirement already satisfied: sympy in ./.autogen_env/lib/python3.12/site-packages (from onnxruntime>=1.14.1->chromadb->pyautogen[teachable]) (1.13.3)\n",
      "Requirement already satisfied: deprecated>=1.2.6 in ./.autogen_env/lib/python3.12/site-packages (from opentelemetry-api>=1.2.0->chromadb->pyautogen[teachable]) (1.2.14)\n",
      "Requirement already satisfied: importlib-metadata<=8.4.0,>=6.0 in ./.autogen_env/lib/python3.12/site-packages (from opentelemetry-api>=1.2.0->chromadb->pyautogen[teachable]) (8.4.0)\n",
      "Requirement already satisfied: googleapis-common-protos~=1.52 in ./.autogen_env/lib/python3.12/site-packages (from opentelemetry-exporter-otlp-proto-grpc>=1.2.0->chromadb->pyautogen[teachable]) (1.65.0)\n",
      "Requirement already satisfied: opentelemetry-exporter-otlp-proto-common==1.27.0 in ./.autogen_env/lib/python3.12/site-packages (from opentelemetry-exporter-otlp-proto-grpc>=1.2.0->chromadb->pyautogen[teachable]) (1.27.0)\n",
      "Requirement already satisfied: opentelemetry-proto==1.27.0 in ./.autogen_env/lib/python3.12/site-packages (from opentelemetry-exporter-otlp-proto-grpc>=1.2.0->chromadb->pyautogen[teachable]) (1.27.0)\n",
      "Requirement already satisfied: opentelemetry-instrumentation-asgi==0.48b0 in ./.autogen_env/lib/python3.12/site-packages (from opentelemetry-instrumentation-fastapi>=0.41b0->chromadb->pyautogen[teachable]) (0.48b0)\n",
      "Requirement already satisfied: opentelemetry-instrumentation==0.48b0 in ./.autogen_env/lib/python3.12/site-packages (from opentelemetry-instrumentation-fastapi>=0.41b0->chromadb->pyautogen[teachable]) (0.48b0)\n",
      "Requirement already satisfied: opentelemetry-semantic-conventions==0.48b0 in ./.autogen_env/lib/python3.12/site-packages (from opentelemetry-instrumentation-fastapi>=0.41b0->chromadb->pyautogen[teachable]) (0.48b0)\n",
      "Requirement already satisfied: opentelemetry-util-http==0.48b0 in ./.autogen_env/lib/python3.12/site-packages (from opentelemetry-instrumentation-fastapi>=0.41b0->chromadb->pyautogen[teachable]) (0.48b0)\n",
      "Requirement already satisfied: setuptools>=16.0 in ./.autogen_env/lib/python3.12/site-packages (from opentelemetry-instrumentation==0.48b0->opentelemetry-instrumentation-fastapi>=0.41b0->chromadb->pyautogen[teachable]) (72.2.0)\n",
      "Requirement already satisfied: wrapt<2.0.0,>=1.0.0 in ./.autogen_env/lib/python3.12/site-packages (from opentelemetry-instrumentation==0.48b0->opentelemetry-instrumentation-fastapi>=0.41b0->chromadb->pyautogen[teachable]) (1.16.0)\n",
      "Requirement already satisfied: asgiref~=3.0 in ./.autogen_env/lib/python3.12/site-packages (from opentelemetry-instrumentation-asgi==0.48b0->opentelemetry-instrumentation-fastapi>=0.41b0->chromadb->pyautogen[teachable]) (3.8.1)\n",
      "Requirement already satisfied: monotonic>=1.5 in ./.autogen_env/lib/python3.12/site-packages (from posthog>=2.4.0->chromadb->pyautogen[teachable]) (1.6)\n",
      "Requirement already satisfied: backoff>=1.10.0 in ./.autogen_env/lib/python3.12/site-packages (from posthog>=2.4.0->chromadb->pyautogen[teachable]) (2.2.1)\n",
      "Requirement already satisfied: charset-normalizer<4,>=2 in ./.autogen_env/lib/python3.12/site-packages (from requests>=2.26.0->docker->pyautogen[teachable]) (3.3.2)\n",
      "Requirement already satisfied: markdown-it-py>=2.2.0 in ./.autogen_env/lib/python3.12/site-packages (from rich>=10.11.0->chromadb->pyautogen[teachable]) (3.0.0)\n",
      "Requirement already satisfied: pygments<3.0.0,>=2.13.0 in ./.autogen_env/lib/python3.12/site-packages (from rich>=10.11.0->chromadb->pyautogen[teachable]) (2.18.0)\n",
      "Requirement already satisfied: huggingface-hub<1.0,>=0.16.4 in ./.autogen_env/lib/python3.12/site-packages (from tokenizers>=0.13.2->chromadb->pyautogen[teachable]) (0.25.1)\n",
      "Requirement already satisfied: click>=8.0.0 in ./.autogen_env/lib/python3.12/site-packages (from typer>=0.9.0->chromadb->pyautogen[teachable]) (8.1.7)\n",
      "Requirement already satisfied: shellingham>=1.3.0 in ./.autogen_env/lib/python3.12/site-packages (from typer>=0.9.0->chromadb->pyautogen[teachable]) (1.5.4)\n",
      "Requirement already satisfied: httptools>=0.5.0 in ./.autogen_env/lib/python3.12/site-packages (from uvicorn[standard]>=0.18.3->chromadb->pyautogen[teachable]) (0.6.1)\n",
      "Requirement already satisfied: uvloop!=0.15.0,!=0.15.1,>=0.14.0 in ./.autogen_env/lib/python3.12/site-packages (from uvicorn[standard]>=0.18.3->chromadb->pyautogen[teachable]) (0.20.0)\n",
      "Requirement already satisfied: watchfiles>=0.13 in ./.autogen_env/lib/python3.12/site-packages (from uvicorn[standard]>=0.18.3->chromadb->pyautogen[teachable]) (0.24.0)\n",
      "Requirement already satisfied: websockets>=10.4 in ./.autogen_env/lib/python3.12/site-packages (from uvicorn[standard]>=0.18.3->chromadb->pyautogen[teachable]) (13.1)\n",
      "Requirement already satisfied: cachetools<6.0,>=2.0.0 in ./.autogen_env/lib/python3.12/site-packages (from google-auth>=1.0.1->kubernetes>=28.1.0->chromadb->pyautogen[teachable]) (5.5.0)\n",
      "Requirement already satisfied: pyasn1-modules>=0.2.1 in ./.autogen_env/lib/python3.12/site-packages (from google-auth>=1.0.1->kubernetes>=28.1.0->chromadb->pyautogen[teachable]) (0.4.1)\n",
      "Requirement already satisfied: rsa<5,>=3.1.4 in ./.autogen_env/lib/python3.12/site-packages (from google-auth>=1.0.1->kubernetes>=28.1.0->chromadb->pyautogen[teachable]) (4.9)\n",
      "Requirement already satisfied: filelock in ./.autogen_env/lib/python3.12/site-packages (from huggingface-hub<1.0,>=0.16.4->tokenizers>=0.13.2->chromadb->pyautogen[teachable]) (3.16.1)\n",
      "Requirement already satisfied: fsspec>=2023.5.0 in ./.autogen_env/lib/python3.12/site-packages (from huggingface-hub<1.0,>=0.16.4->tokenizers>=0.13.2->chromadb->pyautogen[teachable]) (2024.9.0)\n",
      "Requirement already satisfied: zipp>=0.5 in ./.autogen_env/lib/python3.12/site-packages (from importlib-metadata<=8.4.0,>=6.0->opentelemetry-api>=1.2.0->chromadb->pyautogen[teachable]) (3.20.2)\n",
      "Requirement already satisfied: mdurl~=0.1 in ./.autogen_env/lib/python3.12/site-packages (from markdown-it-py>=2.2.0->rich>=10.11.0->chromadb->pyautogen[teachable]) (0.1.2)\n",
      "Requirement already satisfied: humanfriendly>=9.1 in ./.autogen_env/lib/python3.12/site-packages (from coloredlogs->onnxruntime>=1.14.1->chromadb->pyautogen[teachable]) (10.0)\n",
      "Requirement already satisfied: mpmath<1.4,>=1.1.0 in ./.autogen_env/lib/python3.12/site-packages (from sympy->onnxruntime>=1.14.1->chromadb->pyautogen[teachable]) (1.3.0)\n",
      "Requirement already satisfied: pyasn1<0.7.0,>=0.4.6 in ./.autogen_env/lib/python3.12/site-packages (from pyasn1-modules>=0.2.1->google-auth>=1.0.1->kubernetes>=28.1.0->chromadb->pyautogen[teachable]) (0.6.1)\n",
      "\n",
      "\u001b[1m[\u001b[0m\u001b[34;49mnotice\u001b[0m\u001b[1;39;49m]\u001b[0m\u001b[39;49m A new release of pip is available: \u001b[0m\u001b[31;49m24.0\u001b[0m\u001b[39;49m -> \u001b[0m\u001b[32;49m24.2\u001b[0m\n",
      "\u001b[1m[\u001b[0m\u001b[34;49mnotice\u001b[0m\u001b[1;39;49m]\u001b[0m\u001b[39;49m To update, run: \u001b[0m\u001b[32;49mpip install --upgrade pip\u001b[0m\n"
     ]
    }
   ],
   "source": [
    "! pip install \"pyautogen[teachable]\""
   ]
  },
  {
   "cell_type": "code",
   "execution_count": 2,
   "id": "d9712cce-d65c-406c-ba4d-67f4315d43f5",
   "metadata": {},
   "outputs": [
    {
     "data": {
      "text/plain": [
       "True"
      ]
     },
     "execution_count": 2,
     "metadata": {},
     "output_type": "execute_result"
    }
   ],
   "source": [
    "## import required libraries\n",
    "import os\n",
    "from autogen import UserProxyAgent, config_list_from_json\n",
    "from autogen.agentchat.contrib.capabilities.teachability import Teachability\n",
    "from autogen import ConversableAgent  # As an example\n",
    "from dotenv import load_dotenv\n",
    "\n",
    "load_dotenv(override=True) # load environment variables from .env file"
   ]
  },
  {
   "cell_type": "code",
   "execution_count": 3,
   "id": "b6d31702-1b73-4191-9c0c-32e7728b7968",
   "metadata": {},
   "outputs": [],
   "source": [
    "## llm configuration\n",
    "llm_config ={\n",
    "                \"model\": \"gpt-4o\",\n",
    "                \"api_key\": os.getenv(\"OPENAI_API_KEY\")\n",
    "            }"
   ]
  },
  {
   "cell_type": "markdown",
   "id": "525be306-0a08-4404-ae09-219b51417a18",
   "metadata": {},
   "source": [
    "## Create the agents"
   ]
  },
  {
   "cell_type": "code",
   "execution_count": 4,
   "id": "202bf45c-112f-4351-bc7a-9162fa890a28",
   "metadata": {},
   "outputs": [
    {
     "name": "stdout",
     "output_type": "stream",
     "text": [
      "\u001b[92m\n",
      "LOADING MEMORY FROM DISK\u001b[0m\n",
      "\u001b[92m    Location = ./tmp/interactive/teachability_db/uid_text_dict.pkl\u001b[0m\n"
     ]
    }
   ],
   "source": [
    "\n",
    "# Start by instantiating any agent that inherits from ConversableAgent, which we use directly here for simplicity.\n",
    "teachable_agent = ConversableAgent(\n",
    "    name=\"teachable_agent\",  # The name can be anything.\n",
    "    llm_config=llm_config\n",
    ")\n",
    "\n",
    "# Instantiate a Teachability object. Its parameters are all optional.\n",
    "teachability = Teachability(\n",
    "    reset_db=False,  # Use True to force-reset the memo DB, and False to use an existing DB.\n",
    "    path_to_db_dir=\"./tmp/interactive/teachability_db\"  # Can be any path, but teachable agents in a group chat require unique paths.\n",
    ")\n",
    "\n",
    "# Now add teachability to the agent.\n",
    "teachability.add_to_agent(teachable_agent)\n",
    "\n",
    "# For this test, create a user proxy agent as usual.\n",
    "user = UserProxyAgent(\n",
    "                \"user\", \n",
    "                human_input_mode=\"ALWAYS\",\n",
    "                code_execution_config={\"use_docker\": False}\n",
    "                )"
   ]
  },
  {
   "cell_type": "markdown",
   "id": "0e18ff1b-0a6f-4207-9632-2b130ab3f0a3",
   "metadata": {},
   "source": [
    "## Chat with teachable agent"
   ]
  },
  {
   "cell_type": "code",
   "execution_count": null,
   "id": "f9a3b75b-ca4f-4987-946d-835d2279a913",
   "metadata": {},
   "outputs": [
    {
     "name": "stdout",
     "output_type": "stream",
     "text": [
      "\u001b[33mteachable_agent\u001b[0m (to user):\n",
      "\n",
      "Hi, I'm a teachable user assistant! What's on your mind?\n",
      "\n",
      "--------------------------------------------------------------------------------\n"
     ]
    },
    {
     "name": "stdin",
     "output_type": "stream",
     "text": [
      "Replying as user. Provide feedback to teachable_agent. Press enter to skip and use auto-reply, or type 'exit' to end the conversation:  What's my name?\n"
     ]
    },
    {
     "name": "stdout",
     "output_type": "stream",
     "text": [
      "\u001b[33muser\u001b[0m (to teachable_agent):\n",
      "\n",
      "What's my name?\n",
      "\n",
      "--------------------------------------------------------------------------------\n",
      "\u001b[31m\n",
      ">>>>>>>> USING AUTO REPLY...\u001b[0m\n",
      "\u001b[33mteachable_agent\u001b[0m (to user):\n",
      "\n",
      "Hello Harshit! How can I assist you today?\n",
      "\n",
      "--------------------------------------------------------------------------------\n"
     ]
    },
    {
     "name": "stdin",
     "output_type": "stream",
     "text": [
      "Replying as user. Provide feedback to teachable_agent. Press enter to skip and use auto-reply, or type 'exit' to end the conversation:  Which ramen do I like?\n"
     ]
    },
    {
     "name": "stdout",
     "output_type": "stream",
     "text": [
      "\u001b[33muser\u001b[0m (to teachable_agent):\n",
      "\n",
      "Which ramen do I like?\n",
      "\n",
      "--------------------------------------------------------------------------------\n",
      "\u001b[31m\n",
      ">>>>>>>> USING AUTO REPLY...\u001b[0m\n",
      "\u001b[33mteachable_agent\u001b[0m (to user):\n",
      "\n",
      "Harshit, you like miso ramen. How can I help you further?\n",
      "\n",
      "--------------------------------------------------------------------------------\n"
     ]
    }
   ],
   "source": [
    "# This function will return once the user types 'exit'.\n",
    "teachable_agent.initiate_chat(user, message=\"Hi, I'm a teachable user assistant! What's on your mind?\")"
   ]
  },
  {
   "cell_type": "code",
   "execution_count": null,
   "id": "ea3da693-8e5b-46fd-8dd3-32b039bce842",
   "metadata": {},
   "outputs": [],
   "source": []
  }
 ],
 "metadata": {
  "kernelspec": {
   "display_name": "Python 3 (ipykernel)",
   "language": "python",
   "name": "python3"
  },
  "language_info": {
   "codemirror_mode": {
    "name": "ipython",
    "version": 3
   },
   "file_extension": ".py",
   "mimetype": "text/x-python",
   "name": "python",
   "nbconvert_exporter": "python",
   "pygments_lexer": "ipython3",
   "version": "3.12.6"
  }
 },
 "nbformat": 4,
 "nbformat_minor": 5
}
