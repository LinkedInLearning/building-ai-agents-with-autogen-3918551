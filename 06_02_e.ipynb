{
 "cells": [
  {
   "cell_type": "markdown",
   "id": "ce5aa41a-0274-4af2-a5c5-efea984b590f",
   "metadata": {},
   "source": [
    "# Teachable Agents"
   ]
  },
  {
   "cell_type": "code",
   "execution_count": null,
   "id": "f44ef9df-79c1-42af-9d20-225c032db422",
   "metadata": {},
   "outputs": [],
   "source": [
    "! pip install \"pyautogen[teachable]\""
   ]
  },
  {
   "cell_type": "code",
   "execution_count": null,
   "id": "d9712cce-d65c-406c-ba4d-67f4315d43f5",
   "metadata": {},
   "outputs": [],
   "source": [
    "## import required libraries\n",
    "import os\n",
    "from autogen import UserProxyAgent, config_list_from_json\n",
    "from autogen.agentchat.contrib.capabilities.teachability import Teachability\n",
    "from autogen import ConversableAgent  # As an example\n",
    "\n",
    "load_dotenv() # load environment variables from .env file"
   ]
  },
  {
   "cell_type": "code",
   "execution_count": null,
   "id": "b6d31702-1b73-4191-9c0c-32e7728b7968",
   "metadata": {},
   "outputs": [],
   "source": [
    "## llm configuration\n",
    "llm_config ={\n",
    "                \"model\": \"gpt-4o\",\n",
    "                \"api_key\": os.getenv(\"OPENAI_API_KEY\")\n",
    "            }"
   ]
  },
  {
   "cell_type": "markdown",
   "id": "525be306-0a08-4404-ae09-219b51417a18",
   "metadata": {},
   "source": [
    "## Create the agents"
   ]
  },
  {
   "cell_type": "code",
   "execution_count": null,
   "id": "202bf45c-112f-4351-bc7a-9162fa890a28",
   "metadata": {},
   "outputs": [],
   "source": [
    "\n",
    "# Start by instantiating any agent that inherits from ConversableAgent, which we use directly here for simplicity.\n",
    "teachable_agent = ConversableAgent(\n",
    "    name=\"teachable_agent\",  # The name can be anything.\n",
    "    llm_config=llm_config\n",
    ")\n",
    "\n",
    "# Instantiate a Teachability object. Its parameters are all optional.\n",
    "teachability = Teachability(\n",
    "    reset_db=False,  # Use True to force-reset the memo DB, and False to use an existing DB.\n",
    "    path_to_db_dir=\"./tmp/interactive/teachability_db\"  # Can be any path, but teachable agents in a group chat require unique paths.\n",
    ")\n",
    "\n",
    "# Now add teachability to the agent.\n",
    "teachability.add_to_agent(teachable_agent)\n",
    "\n",
    "# For this test, create a user proxy agent as usual.\n",
    "user = UserProxyAgent(\"user\", human_input_mode=\"ALWAYS\")"
   ]
  },
  {
   "cell_type": "markdown",
   "id": "0e18ff1b-0a6f-4207-9632-2b130ab3f0a3",
   "metadata": {},
   "source": [
    "## Chat with teachable agent"
   ]
  },
  {
   "cell_type": "code",
   "execution_count": null,
   "id": "f9a3b75b-ca4f-4987-946d-835d2279a913",
   "metadata": {},
   "outputs": [],
   "source": [
    "# This function will return once the user types 'exit'.\n",
    "teachable_agent.initiate_chat(user, message=\"Hi, I'm a teachable user assistant! What's on your mind?\")"
   ]
  },
  {
   "cell_type": "code",
   "execution_count": null,
   "id": "ea3da693-8e5b-46fd-8dd3-32b039bce842",
   "metadata": {},
   "outputs": [],
   "source": []
  }
 ],
 "metadata": {
  "kernelspec": {
   "display_name": "Python 3 (ipykernel)",
   "language": "python",
   "name": "python3"
  },
  "language_info": {
   "codemirror_mode": {
    "name": "ipython",
    "version": 3
   },
   "file_extension": ".py",
   "mimetype": "text/x-python",
   "name": "python",
   "nbconvert_exporter": "python",
   "pygments_lexer": "ipython3",
   "version": "3.12.3"
  }
 },
 "nbformat": 4,
 "nbformat_minor": 5
}
