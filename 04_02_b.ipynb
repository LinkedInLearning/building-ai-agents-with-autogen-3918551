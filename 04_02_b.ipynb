{
 "cells": [
  {
   "cell_type": "markdown",
   "id": "a79c74dd-f0b4-4768-8e4f-bbe380c28bbd",
   "metadata": {},
   "source": [
    "# Add calculator tool to math tutor agent"
   ]
  },
  {
   "cell_type": "code",
   "execution_count": null,
   "id": "ff0735dc-8817-4491-9382-04656bff99f1",
   "metadata": {},
   "outputs": [],
   "source": [
    "## import required libraries\n",
    "import os\n",
    "from autogen import AssistantAgent, ConversableAgent, UserProxyAgent\n",
    "from dotenv import load_dotenv\n",
    "\n",
    "\n",
    "load_dotenv() # load environment variables from .env file"
   ]
  },
  {
   "cell_type": "code",
   "execution_count": null,
   "id": "9ac49447-63f5-4536-9643-4e7029a10d90",
   "metadata": {},
   "outputs": [],
   "source": [
    "## llm configuration\n",
    "llm_config ={\n",
    "                \"model\": \"gpt-4o\",\n",
    "                \"api_key\": os.getenv(\"OPENAI_API_KEY\")\n",
    "            }"
   ]
  },
  {
   "cell_type": "markdown",
   "id": "bc35c4d3-3fd1-44ed-84a8-5907f0c5d7ee",
   "metadata": {},
   "source": [
    "## Defining a calculator tool"
   ]
  },
  {
   "cell_type": "code",
   "execution_count": null,
   "id": "0872a66f-39a7-498a-9cb1-ac82ee92b8f2",
   "metadata": {},
   "outputs": [],
   "source": []
  }
 ],
 "metadata": {
  "kernelspec": {
   "display_name": "Python 3 (ipykernel)",
   "language": "python",
   "name": "python3"
  },
  "language_info": {
   "codemirror_mode": {
    "name": "ipython",
    "version": 3
   },
   "file_extension": ".py",
   "mimetype": "text/x-python",
   "name": "python",
   "nbconvert_exporter": "python",
   "pygments_lexer": "ipython3",
   "version": "3.12.3"
  }
 },
 "nbformat": 4,
 "nbformat_minor": 5
}
