{
 "cells": [
  {
   "cell_type": "markdown",
   "id": "ce5aa41a-0274-4af2-a5c5-efea984b590f",
   "metadata": {},
   "source": [
    "# Add web search ability to research assistant"
   ]
  },
  {
   "cell_type": "code",
   "execution_count": 1,
   "id": "303b4c47-0e26-4c46-a858-354c1ea937d9",
   "metadata": {},
   "outputs": [
    {
     "name": "stdout",
     "output_type": "stream",
     "text": [
      "Requirement already satisfied: pyautogen>=0.2.18 in ./.autogen_env/lib/python3.12/site-packages (0.2.34)\n",
      "Requirement already satisfied: tavily-python in ./.autogen_env/lib/python3.12/site-packages (0.4.0)\n",
      "Requirement already satisfied: diskcache in ./.autogen_env/lib/python3.12/site-packages (from pyautogen>=0.2.18) (5.6.3)\n",
      "Requirement already satisfied: docker in ./.autogen_env/lib/python3.12/site-packages (from pyautogen>=0.2.18) (7.1.0)\n",
      "Requirement already satisfied: flaml in ./.autogen_env/lib/python3.12/site-packages (from pyautogen>=0.2.18) (2.2.0)\n",
      "Requirement already satisfied: numpy<2,>=1.17.0 in ./.autogen_env/lib/python3.12/site-packages (from pyautogen>=0.2.18) (1.26.4)\n",
      "Requirement already satisfied: openai>=1.3 in ./.autogen_env/lib/python3.12/site-packages (from pyautogen>=0.2.18) (1.41.0)\n",
      "Requirement already satisfied: packaging in ./.autogen_env/lib/python3.12/site-packages (from pyautogen>=0.2.18) (24.1)\n",
      "Requirement already satisfied: pydantic!=2.6.0,<3,>=1.10 in ./.autogen_env/lib/python3.12/site-packages (from pyautogen>=0.2.18) (2.8.2)\n",
      "Requirement already satisfied: python-dotenv in ./.autogen_env/lib/python3.12/site-packages (from pyautogen>=0.2.18) (1.0.1)\n",
      "Requirement already satisfied: termcolor in ./.autogen_env/lib/python3.12/site-packages (from pyautogen>=0.2.18) (2.4.0)\n",
      "Requirement already satisfied: tiktoken in ./.autogen_env/lib/python3.12/site-packages (from pyautogen>=0.2.18) (0.7.0)\n",
      "Requirement already satisfied: requests in ./.autogen_env/lib/python3.12/site-packages (from tavily-python) (2.32.3)\n",
      "Requirement already satisfied: httpx in ./.autogen_env/lib/python3.12/site-packages (from tavily-python) (0.27.0)\n",
      "Requirement already satisfied: anyio<5,>=3.5.0 in ./.autogen_env/lib/python3.12/site-packages (from openai>=1.3->pyautogen>=0.2.18) (4.4.0)\n",
      "Requirement already satisfied: distro<2,>=1.7.0 in ./.autogen_env/lib/python3.12/site-packages (from openai>=1.3->pyautogen>=0.2.18) (1.9.0)\n",
      "Requirement already satisfied: jiter<1,>=0.4.0 in ./.autogen_env/lib/python3.12/site-packages (from openai>=1.3->pyautogen>=0.2.18) (0.5.0)\n",
      "Requirement already satisfied: sniffio in ./.autogen_env/lib/python3.12/site-packages (from openai>=1.3->pyautogen>=0.2.18) (1.3.1)\n",
      "Requirement already satisfied: tqdm>4 in ./.autogen_env/lib/python3.12/site-packages (from openai>=1.3->pyautogen>=0.2.18) (4.66.5)\n",
      "Requirement already satisfied: typing-extensions<5,>=4.11 in ./.autogen_env/lib/python3.12/site-packages (from openai>=1.3->pyautogen>=0.2.18) (4.12.2)\n",
      "Requirement already satisfied: certifi in ./.autogen_env/lib/python3.12/site-packages (from httpx->tavily-python) (2024.7.4)\n",
      "Requirement already satisfied: httpcore==1.* in ./.autogen_env/lib/python3.12/site-packages (from httpx->tavily-python) (1.0.5)\n",
      "Requirement already satisfied: idna in ./.autogen_env/lib/python3.12/site-packages (from httpx->tavily-python) (3.7)\n",
      "Requirement already satisfied: h11<0.15,>=0.13 in ./.autogen_env/lib/python3.12/site-packages (from httpcore==1.*->httpx->tavily-python) (0.14.0)\n",
      "Requirement already satisfied: annotated-types>=0.4.0 in ./.autogen_env/lib/python3.12/site-packages (from pydantic!=2.6.0,<3,>=1.10->pyautogen>=0.2.18) (0.7.0)\n",
      "Requirement already satisfied: pydantic-core==2.20.1 in ./.autogen_env/lib/python3.12/site-packages (from pydantic!=2.6.0,<3,>=1.10->pyautogen>=0.2.18) (2.20.1)\n",
      "Requirement already satisfied: regex>=2022.1.18 in ./.autogen_env/lib/python3.12/site-packages (from tiktoken->pyautogen>=0.2.18) (2024.7.24)\n",
      "Requirement already satisfied: charset-normalizer<4,>=2 in ./.autogen_env/lib/python3.12/site-packages (from requests->tavily-python) (3.3.2)\n",
      "Requirement already satisfied: urllib3<3,>=1.21.1 in ./.autogen_env/lib/python3.12/site-packages (from requests->tavily-python) (2.2.2)\n",
      "\n",
      "\u001b[1m[\u001b[0m\u001b[34;49mnotice\u001b[0m\u001b[1;39;49m]\u001b[0m\u001b[39;49m A new release of pip is available: \u001b[0m\u001b[31;49m24.0\u001b[0m\u001b[39;49m -> \u001b[0m\u001b[32;49m24.2\u001b[0m\n",
      "\u001b[1m[\u001b[0m\u001b[34;49mnotice\u001b[0m\u001b[1;39;49m]\u001b[0m\u001b[39;49m To update, run: \u001b[0m\u001b[32;49mpip install --upgrade pip\u001b[0m\n"
     ]
    }
   ],
   "source": [
    "! pip install \"pyautogen>=0.2.18\" \"tavily-python\""
   ]
  },
  {
   "cell_type": "code",
   "execution_count": 2,
   "id": "d9712cce-d65c-406c-ba4d-67f4315d43f5",
   "metadata": {},
   "outputs": [
    {
     "data": {
      "text/plain": [
       "True"
      ]
     },
     "execution_count": 2,
     "metadata": {},
     "output_type": "execute_result"
    }
   ],
   "source": [
    "## import required libraries\n",
    "import os\n",
    "from typing import Annotated\n",
    "from tavily import TavilyClient\n",
    "from autogen import AssistantAgent, UserProxyAgent, config_list_from_json, register_function\n",
    "from dotenv import load_dotenv\n",
    "\n",
    "load_dotenv(override=True) # load environment variables from .env file"
   ]
  },
  {
   "cell_type": "code",
   "execution_count": 3,
   "id": "b6d31702-1b73-4191-9c0c-32e7728b7968",
   "metadata": {},
   "outputs": [],
   "source": [
    "## llm configuration\n",
    "llm_config ={\n",
    "                \"model\": \"gpt-4o\",\n",
    "                \"api_key\": os.getenv(\"OPENAI_API_KEY\")\n",
    "            }"
   ]
  },
  {
   "cell_type": "markdown",
   "id": "7e8a6b77-b67c-44b3-8d6e-dc8af7314242",
   "metadata": {},
   "source": [
    "## Tavily as a tool for searching the web"
   ]
  },
  {
   "cell_type": "code",
   "execution_count": 4,
   "id": "563249ca-c861-44d4-95f2-72b55905a7a9",
   "metadata": {},
   "outputs": [],
   "source": [
    "tavily = TavilyClient(api_key=os.getenv(\"TAVILY_API_KEY\"))\n",
    "\n",
    "def search_tool(query: Annotated[str, \"The search query\"]) -> Annotated[str, \"The search results\"]:\n",
    "    return tavily.get_search_context(query=query, search_depth=\"advanced\")"
   ]
  },
  {
   "cell_type": "markdown",
   "id": "e42def67-d7c7-47a0-b55e-24cc76cf69c9",
   "metadata": {},
   "source": [
    "## Adding a ReAct prompt"
   ]
  },
  {
   "cell_type": "code",
   "execution_count": 5,
   "id": "336d9c93-a6a7-4d47-99db-2c7176885b4d",
   "metadata": {},
   "outputs": [],
   "source": [
    "ReAct_prompt = \"\"\"\n",
    "Answer the following questions as best you can. You have access to tools provided.\n",
    "\n",
    "Use the following format:\n",
    "\n",
    "Question: the input question you must answer\n",
    "Thought: you should always think about what to do\n",
    "Action: the action to take\n",
    "Action Input: the input to the action\n",
    "Observation: the result of the action\n",
    "... (this process can repeat multiple times)\n",
    "Thought: I now know the final answer\n",
    "Final Answer: the final answer to the original input question\n",
    "\n",
    "Begin!\n",
    "Question: {input}\n",
    "\"\"\"\n",
    "\n",
    "# Define the ReAct prompt message. Assuming a \"question\" field is present in the context\n",
    "def react_prompt_message(sender, recipient, context):\n",
    "    return ReAct_prompt.format(input=context[\"question\"])"
   ]
  },
  {
   "cell_type": "markdown",
   "id": "7012792c-afc9-4d40-b477-6642c32581ce",
   "metadata": {},
   "source": [
    "## Define agents"
   ]
  },
  {
   "cell_type": "code",
   "execution_count": 6,
   "id": "9061df2b-8d0a-4462-927c-2318429e7598",
   "metadata": {},
   "outputs": [],
   "source": [
    "user_proxy = UserProxyAgent(\n",
    "    name=\"User\",\n",
    "    is_termination_msg=lambda x: x.get(\"content\", \"\") and x.get(\"content\", \"\").rstrip().endswith(\"TERMINATE\"),\n",
    "    human_input_mode=\"ALWAYS\",\n",
    "    max_consecutive_auto_reply=10,\n",
    "    code_execution_config=False\n",
    ")\n",
    "\n",
    "research_assistant = AssistantAgent(\n",
    "    name=\"Assistant\",\n",
    "    system_message=\"\"\"\n",
    "                You are a helpful research assistant who has the ability to search the web using the provided tools.\n",
    "                Only use the tools you have been provided with. Reply TERMINATE when the task is done.\n",
    "                \"\"\",\n",
    "    llm_config=llm_config,\n",
    ")\n",
    "\n"
   ]
  },
  {
   "cell_type": "markdown",
   "id": "0cf2f7ab-3390-49a4-b415-07245f318e5e",
   "metadata": {},
   "source": [
    "## Register the search tool"
   ]
  },
  {
   "cell_type": "code",
   "execution_count": 7,
   "id": "06421d74-9216-4772-8e77-51cad8b9ef5c",
   "metadata": {},
   "outputs": [],
   "source": [
    "# Register the search tool.\n",
    "register_function(\n",
    "    search_tool,\n",
    "    caller=research_assistant,\n",
    "    executor=user_proxy,\n",
    "    name=\"search_tool\",\n",
    "    description=\"Search the web for the given query\",\n",
    ")\n"
   ]
  },
  {
   "cell_type": "markdown",
   "id": "9ab8f7b0-4f5f-4f7a-8dd0-3cffcdc91458",
   "metadata": {},
   "source": [
    "## Initiate the chat"
   ]
  },
  {
   "cell_type": "code",
   "execution_count": 8,
   "id": "3e2fda77-1c08-4825-8283-1403446a4209",
   "metadata": {},
   "outputs": [
    {
     "name": "stdout",
     "output_type": "stream",
     "text": [
      "\u001b[33mUser\u001b[0m (to Assistant):\n",
      "\n",
      "\n",
      "Answer the following questions as best you can. You have access to tools provided.\n",
      "\n",
      "Use the following format:\n",
      "\n",
      "Question: the input question you must answer\n",
      "Thought: you should always think about what to do\n",
      "Action: the action to take\n",
      "Action Input: the input to the action\n",
      "Observation: the result of the action\n",
      "... (this process can repeat multiple times)\n",
      "Thought: I now know the final answer\n",
      "Final Answer: the final answer to the original input question\n",
      "\n",
      "Begin!\n",
      "Question: Who won the T20 cricket world cup in 2024?\n",
      "\n",
      "\n",
      "--------------------------------------------------------------------------------\n",
      "\u001b[33mAssistant\u001b[0m (to User):\n",
      "\n",
      "\u001b[32m***** Suggested tool call (call_KzaKQDT41HqEEX1QSYVItNFN): search_tool *****\u001b[0m\n",
      "Arguments: \n",
      "{\"query\":\"T20 cricket world cup winner 2024\"}\n",
      "\u001b[32m****************************************************************************\u001b[0m\n",
      "\n",
      "--------------------------------------------------------------------------------\n"
     ]
    },
    {
     "name": "stdin",
     "output_type": "stream",
     "text": [
      "Replying as User. Provide feedback to Assistant. Press enter to skip and use auto-reply, or type 'exit' to end the conversation:  \n"
     ]
    },
    {
     "name": "stdout",
     "output_type": "stream",
     "text": [
      "\u001b[31m\n",
      ">>>>>>>> NO HUMAN INPUT RECEIVED.\u001b[0m\n",
      "\u001b[31m\n",
      ">>>>>>>> USING AUTO REPLY...\u001b[0m\n",
      "\u001b[35m\n",
      ">>>>>>>> EXECUTING FUNCTION search_tool...\u001b[0m\n",
      "\u001b[33mUser\u001b[0m (to Assistant):\n",
      "\n",
      "\u001b[33mUser\u001b[0m (to Assistant):\n",
      "\n",
      "\u001b[32m***** Response from calling tool (call_KzaKQDT41HqEEX1QSYVItNFN) *****\u001b[0m\n",
      "\"[\\\"{\\\\\\\"url\\\\\\\": \\\\\\\"https://en.wikipedia.org/wiki/2024_ICC_Men's_T20_World_Cup_final\\\\\\\", \\\\\\\"content\\\\\\\": \\\\\\\"The 2024 ICC Men's T20 World Cup final was a Twenty20 International cricket match played at Kensington Oval in Bridgetown, Barbados on 29 June 2024 to determine the winner of the 2024 ICC Men's T20 World Cup. [1][2] It was played between South Africa and India. [3] India defeated South Africa by 7 runs to win their second T20 World Cup title. [4] Virat Kohli was named Player of the Match for ...\\\\\\\"}\\\", \\\"{\\\\\\\"url\\\\\\\": \\\\\\\"https://www.skysports.com/cricket/news/12172/13042693/mens-t20-world-cup-2024-full-results-after-india-beat-south-africa-in-barbados-final-to-win-second-title\\\\\\\", \\\\\\\"content\\\\\\\": \\\\\\\"Full results from the 2024 Men's T20 World Cup after India beat South Africa in Barbados to win their second title in the tournament. T20 World Cup - Knockout stage results Saturday June 29 Final ...\\\\\\\"}\\\", \\\"{\\\\\\\"url\\\\\\\": \\\\\\\"https://apnews.com/article/t20-world-cup-final-india-south-africa-7e34991216a0e6b32e0ead3d5dbf6684\\\\\\\", \\\\\\\"content\\\\\\\": \\\\\\\"India's head coach Rahul Dravid, center, and players celebrate with the winners trophy after defeating South Africa in the ICC Men's T20 World Cup final cricket match at Kensington Oval in Bridgetown, Barbados, Saturday, June 29, 2024.\\\\\\\"}\\\", \\\"{\\\\\\\"url\\\\\\\": \\\\\\\"https://www.espncricinfo.com/series/icc-men-s-t20-world-cup-2024-1411166/india-vs-south-africa-final-1415755/full-scorecard\\\\\\\", \\\\\\\"content\\\\\\\": \\\\\\\"Live Cricket Scoreboard: Get India vs South Africa Final, cricket scorecard, ICC Men's T20 World Cup 2024 dated June 29, 2024.\\\\\\\"}\\\", \\\"{\\\\\\\"url\\\\\\\": \\\\\\\"https://www.icc-cricket.com/tournaments/t20cricketworldcup/videos/india-script-stunning-title-win-match-highlights-sa-v-ind-t20wc-2024-final\\\\\\\", \\\\\\\"content\\\\\\\": \\\\\\\"India script stunning title win | Match Highlights | SA v IND | T20WC 2024 Final. overview U19 Cricket World Cup Highlighted Videos World Test Championship. ICC Men's T20 World Cup, 2024.\\\\\\\"}\\\"]\"\n",
      "\u001b[32m**********************************************************************\u001b[0m\n",
      "\n",
      "--------------------------------------------------------------------------------\n",
      "\u001b[33mAssistant\u001b[0m (to User):\n",
      "\n",
      "Thought: The search results indicate that India won the T20 cricket world cup in 2024.\n",
      "\n",
      "Final Answer: India won the T20 cricket world cup in 2024.\n",
      "\n",
      "--------------------------------------------------------------------------------\n"
     ]
    },
    {
     "name": "stdin",
     "output_type": "stream",
     "text": [
      "Replying as User. Provide feedback to Assistant. Press enter to skip and use auto-reply, or type 'exit' to end the conversation:  TERMINATE\n"
     ]
    },
    {
     "name": "stdout",
     "output_type": "stream",
     "text": [
      "\u001b[33mUser\u001b[0m (to Assistant):\n",
      "\n",
      "TERMINATE\n",
      "\n",
      "--------------------------------------------------------------------------------\n"
     ]
    },
    {
     "data": {
      "text/plain": [
       "ChatResult(chat_id=None, chat_history=[{'content': '\\nAnswer the following questions as best you can. You have access to tools provided.\\n\\nUse the following format:\\n\\nQuestion: the input question you must answer\\nThought: you should always think about what to do\\nAction: the action to take\\nAction Input: the input to the action\\nObservation: the result of the action\\n... (this process can repeat multiple times)\\nThought: I now know the final answer\\nFinal Answer: the final answer to the original input question\\n\\nBegin!\\nQuestion: Who won the T20 cricket world cup in 2024?\\n', 'role': 'assistant'}, {'tool_calls': [{'id': 'call_KzaKQDT41HqEEX1QSYVItNFN', 'function': {'arguments': '{\"query\":\"T20 cricket world cup winner 2024\"}', 'name': 'search_tool'}, 'type': 'function'}], 'content': None, 'role': 'assistant'}, {'content': '\"[\\\\\"{\\\\\\\\\\\\\"url\\\\\\\\\\\\\": \\\\\\\\\\\\\"https://en.wikipedia.org/wiki/2024_ICC_Men\\'s_T20_World_Cup_final\\\\\\\\\\\\\", \\\\\\\\\\\\\"content\\\\\\\\\\\\\": \\\\\\\\\\\\\"The 2024 ICC Men\\'s T20 World Cup final was a Twenty20 International cricket match played at Kensington Oval in Bridgetown, Barbados on 29 June 2024 to determine the winner of the 2024 ICC Men\\'s T20 World Cup. [1][2] It was played between South Africa and India. [3] India defeated South Africa by 7 runs to win their second T20 World Cup title. [4] Virat Kohli was named Player of the Match for ...\\\\\\\\\\\\\"}\\\\\", \\\\\"{\\\\\\\\\\\\\"url\\\\\\\\\\\\\": \\\\\\\\\\\\\"https://www.skysports.com/cricket/news/12172/13042693/mens-t20-world-cup-2024-full-results-after-india-beat-south-africa-in-barbados-final-to-win-second-title\\\\\\\\\\\\\", \\\\\\\\\\\\\"content\\\\\\\\\\\\\": \\\\\\\\\\\\\"Full results from the 2024 Men\\'s T20 World Cup after India beat South Africa in Barbados to win their second title in the tournament. T20 World Cup - Knockout stage results Saturday June 29 Final ...\\\\\\\\\\\\\"}\\\\\", \\\\\"{\\\\\\\\\\\\\"url\\\\\\\\\\\\\": \\\\\\\\\\\\\"https://apnews.com/article/t20-world-cup-final-india-south-africa-7e34991216a0e6b32e0ead3d5dbf6684\\\\\\\\\\\\\", \\\\\\\\\\\\\"content\\\\\\\\\\\\\": \\\\\\\\\\\\\"India\\'s head coach Rahul Dravid, center, and players celebrate with the winners trophy after defeating South Africa in the ICC Men\\'s T20 World Cup final cricket match at Kensington Oval in Bridgetown, Barbados, Saturday, June 29, 2024.\\\\\\\\\\\\\"}\\\\\", \\\\\"{\\\\\\\\\\\\\"url\\\\\\\\\\\\\": \\\\\\\\\\\\\"https://www.espncricinfo.com/series/icc-men-s-t20-world-cup-2024-1411166/india-vs-south-africa-final-1415755/full-scorecard\\\\\\\\\\\\\", \\\\\\\\\\\\\"content\\\\\\\\\\\\\": \\\\\\\\\\\\\"Live Cricket Scoreboard: Get India vs South Africa Final, cricket scorecard, ICC Men\\'s T20 World Cup 2024 dated June 29, 2024.\\\\\\\\\\\\\"}\\\\\", \\\\\"{\\\\\\\\\\\\\"url\\\\\\\\\\\\\": \\\\\\\\\\\\\"https://www.icc-cricket.com/tournaments/t20cricketworldcup/videos/india-script-stunning-title-win-match-highlights-sa-v-ind-t20wc-2024-final\\\\\\\\\\\\\", \\\\\\\\\\\\\"content\\\\\\\\\\\\\": \\\\\\\\\\\\\"India script stunning title win | Match Highlights | SA v IND | T20WC 2024 Final. overview U19 Cricket World Cup Highlighted Videos World Test Championship. ICC Men\\'s T20 World Cup, 2024.\\\\\\\\\\\\\"}\\\\\"]\"', 'tool_responses': [{'tool_call_id': 'call_KzaKQDT41HqEEX1QSYVItNFN', 'role': 'tool', 'content': '\"[\\\\\"{\\\\\\\\\\\\\"url\\\\\\\\\\\\\": \\\\\\\\\\\\\"https://en.wikipedia.org/wiki/2024_ICC_Men\\'s_T20_World_Cup_final\\\\\\\\\\\\\", \\\\\\\\\\\\\"content\\\\\\\\\\\\\": \\\\\\\\\\\\\"The 2024 ICC Men\\'s T20 World Cup final was a Twenty20 International cricket match played at Kensington Oval in Bridgetown, Barbados on 29 June 2024 to determine the winner of the 2024 ICC Men\\'s T20 World Cup. [1][2] It was played between South Africa and India. [3] India defeated South Africa by 7 runs to win their second T20 World Cup title. [4] Virat Kohli was named Player of the Match for ...\\\\\\\\\\\\\"}\\\\\", \\\\\"{\\\\\\\\\\\\\"url\\\\\\\\\\\\\": \\\\\\\\\\\\\"https://www.skysports.com/cricket/news/12172/13042693/mens-t20-world-cup-2024-full-results-after-india-beat-south-africa-in-barbados-final-to-win-second-title\\\\\\\\\\\\\", \\\\\\\\\\\\\"content\\\\\\\\\\\\\": \\\\\\\\\\\\\"Full results from the 2024 Men\\'s T20 World Cup after India beat South Africa in Barbados to win their second title in the tournament. T20 World Cup - Knockout stage results Saturday June 29 Final ...\\\\\\\\\\\\\"}\\\\\", \\\\\"{\\\\\\\\\\\\\"url\\\\\\\\\\\\\": \\\\\\\\\\\\\"https://apnews.com/article/t20-world-cup-final-india-south-africa-7e34991216a0e6b32e0ead3d5dbf6684\\\\\\\\\\\\\", \\\\\\\\\\\\\"content\\\\\\\\\\\\\": \\\\\\\\\\\\\"India\\'s head coach Rahul Dravid, center, and players celebrate with the winners trophy after defeating South Africa in the ICC Men\\'s T20 World Cup final cricket match at Kensington Oval in Bridgetown, Barbados, Saturday, June 29, 2024.\\\\\\\\\\\\\"}\\\\\", \\\\\"{\\\\\\\\\\\\\"url\\\\\\\\\\\\\": \\\\\\\\\\\\\"https://www.espncricinfo.com/series/icc-men-s-t20-world-cup-2024-1411166/india-vs-south-africa-final-1415755/full-scorecard\\\\\\\\\\\\\", \\\\\\\\\\\\\"content\\\\\\\\\\\\\": \\\\\\\\\\\\\"Live Cricket Scoreboard: Get India vs South Africa Final, cricket scorecard, ICC Men\\'s T20 World Cup 2024 dated June 29, 2024.\\\\\\\\\\\\\"}\\\\\", \\\\\"{\\\\\\\\\\\\\"url\\\\\\\\\\\\\": \\\\\\\\\\\\\"https://www.icc-cricket.com/tournaments/t20cricketworldcup/videos/india-script-stunning-title-win-match-highlights-sa-v-ind-t20wc-2024-final\\\\\\\\\\\\\", \\\\\\\\\\\\\"content\\\\\\\\\\\\\": \\\\\\\\\\\\\"India script stunning title win | Match Highlights | SA v IND | T20WC 2024 Final. overview U19 Cricket World Cup Highlighted Videos World Test Championship. ICC Men\\'s T20 World Cup, 2024.\\\\\\\\\\\\\"}\\\\\"]\"'}], 'role': 'tool'}, {'content': 'Thought: The search results indicate that India won the T20 cricket world cup in 2024.\\n\\nFinal Answer: India won the T20 cricket world cup in 2024.', 'role': 'user'}, {'content': 'TERMINATE', 'role': 'assistant'}], summary='', cost={'usage_including_cached_inference': {'total_cost': 0.005955, 'gpt-4o-2024-05-13': {'cost': 0.005955, 'prompt_tokens': 1014, 'completion_tokens': 59, 'total_tokens': 1073}}, 'usage_excluding_cached_inference': {'total_cost': 0.0046, 'gpt-4o-2024-05-13': {'cost': 0.0046, 'prompt_tokens': 809, 'completion_tokens': 37, 'total_tokens': 846}}}, human_input=['', 'TERMINATE'])"
      ]
     },
     "execution_count": 8,
     "metadata": {},
     "output_type": "execute_result"
    }
   ],
   "source": [
    "user_proxy.initiate_chat(\n",
    "    research_assistant,\n",
    "    message=react_prompt_message,\n",
    "    question=\"Who won the T20 cricket world cup in 2024?\",\n",
    ")"
   ]
  },
  {
   "cell_type": "code",
   "execution_count": null,
   "id": "d3ed6904-aba8-4e5e-9489-44e46e8f0528",
   "metadata": {},
   "outputs": [],
   "source": []
  }
 ],
 "metadata": {
  "kernelspec": {
   "display_name": "Python 3 (ipykernel)",
   "language": "python",
   "name": "python3"
  },
  "language_info": {
   "codemirror_mode": {
    "name": "ipython",
    "version": 3
   },
   "file_extension": ".py",
   "mimetype": "text/x-python",
   "name": "python",
   "nbconvert_exporter": "python",
   "pygments_lexer": "ipython3",
   "version": "3.12.6"
  }
 },
 "nbformat": 4,
 "nbformat_minor": 5
}
