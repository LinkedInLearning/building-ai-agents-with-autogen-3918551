{
 "cells": [
  {
   "cell_type": "markdown",
   "id": "ce5aa41a-0274-4af2-a5c5-efea984b590f",
   "metadata": {},
   "source": [
    "# Creating agents"
   ]
  },
  {
   "cell_type": "code",
   "execution_count": 1,
   "id": "d9712cce-d65c-406c-ba4d-67f4315d43f5",
   "metadata": {},
   "outputs": [
    {
     "data": {
      "text/plain": [
       "True"
      ]
     },
     "execution_count": 1,
     "metadata": {},
     "output_type": "execute_result"
    }
   ],
   "source": [
    "## import required libraries\n",
    "import os\n",
    "from autogen import AssistantAgent, ConversableAgent, UserProxyAgent\n",
    "from dotenv import load_dotenv\n",
    "\n",
    "\n",
    "load_dotenv(override=True) # load environment variables from .env file"
   ]
  },
  {
   "cell_type": "code",
   "execution_count": 2,
   "id": "b6d31702-1b73-4191-9c0c-32e7728b7968",
   "metadata": {},
   "outputs": [],
   "source": [
    "## llm configuration\n",
    "llm_config ={\n",
    "                \"model\": \"gpt-4o\",\n",
    "                \"api_key\": os.getenv(\"OPENAI_API_KEY\")\n",
    "            }"
   ]
  },
  {
   "cell_type": "markdown",
   "id": "a38a6692-1f6f-44d6-81bf-0eb89fe8766b",
   "metadata": {},
   "source": [
    "## Writer Agent"
   ]
  },
  {
   "cell_type": "code",
   "execution_count": 3,
   "id": "a5dea7b3-13fd-4453-a07b-08fba26a5fed",
   "metadata": {},
   "outputs": [],
   "source": [
    "writer = AssistantAgent(\n",
    "    name=\"Writer\",\n",
    "    system_message=\"You are a writer. You write engaging and concise \" \n",
    "        \"blogpost (with title) on given topics. You must polish your \"\n",
    "        \"writing based on the feedback you receive and give a refined \"\n",
    "        \"version. Only return your final work without additional comments.\",\n",
    "    llm_config=llm_config,\n",
    ")"
   ]
  },
  {
   "cell_type": "markdown",
   "id": "4f5da810-e824-4db8-bf70-76bb46cf76da",
   "metadata": {},
   "source": [
    "## Task"
   ]
  },
  {
   "cell_type": "code",
   "execution_count": 4,
   "id": "bcaace1e-7399-489f-b4e6-13dcbfc4db3f",
   "metadata": {},
   "outputs": [],
   "source": [
    "task = '''\n",
    "        Write a concise but engaging blogpost about GPUs. \n",
    "        Make sure the blogpost is within 100 words.\n",
    "       '''\n"
   ]
  },
  {
   "cell_type": "code",
   "execution_count": 5,
   "id": "e6ce6c91-b898-4bb7-a1c8-d62c43d0de3d",
   "metadata": {},
   "outputs": [],
   "source": [
    "reply = writer.generate_reply(messages=[{\"content\": task, \"role\": \"user\"}])"
   ]
  },
  {
   "cell_type": "code",
   "execution_count": 6,
   "id": "662e3d77-7222-4bd6-96d6-c320dcca5427",
   "metadata": {},
   "outputs": [
    {
     "name": "stdout",
     "output_type": "stream",
     "text": [
      "**Unlocking the Power of GPUs: The Heart of Modern Computing**\n",
      "\n",
      "In the realm of modern technology, Graphics Processing Units (GPUs) have revolutionized computing. Initially designed to render lifelike graphics for gaming, GPUs have transcended their original purpose. Their parallel processing capabilities now accelerate complex tasks such as artificial intelligence, deep learning, and big data analysis. As a result, GPUs empower scientists, engineers, and developers to solve intricate problems faster and more efficiently. With continuous advancements, GPUs are not just the future—they're the present driving force of innovation across industries. Dive into the world of GPUs and witness the future of performance computing today.\n"
     ]
    }
   ],
   "source": [
    "print(reply)"
   ]
  },
  {
   "cell_type": "markdown",
   "id": "1b2df843-0576-4b88-87e7-a1b5cb836e62",
   "metadata": {},
   "source": [
    "## Simple review of the post"
   ]
  },
  {
   "cell_type": "code",
   "execution_count": 7,
   "id": "5d637b51-5b5c-4ccd-8b4c-25f152b4553b",
   "metadata": {},
   "outputs": [],
   "source": [
    "## reviewer agent\n",
    "reviewer = AssistantAgent(\n",
    "    name=\"Reviewer\",\n",
    "    is_termination_msg=lambda x: x.get(\"content\", \"\").find(\"TERMINATE\") >= 0,\n",
    "    llm_config=llm_config,\n",
    "    system_message=\"You are a reviewer. You review the work of \"\n",
    "                \"the writer and provide constructive \"\n",
    "                \"feedback to help improve the quality of the content.\",\n",
    ")"
   ]
  },
  {
   "cell_type": "code",
   "execution_count": 8,
   "id": "32bdb086-8bdb-4e3e-9c4f-597ffa43f9b0",
   "metadata": {},
   "outputs": [
    {
     "name": "stdout",
     "output_type": "stream",
     "text": [
      "\u001b[33mReviewer\u001b[0m (to Writer):\n",
      "\n",
      "\n",
      "        Write a concise but engaging blogpost about GPUs. \n",
      "        Make sure the blogpost is within 100 words.\n",
      "       \n",
      "\n",
      "--------------------------------------------------------------------------------\n",
      "\u001b[33mWriter\u001b[0m (to Reviewer):\n",
      "\n",
      "**Unlocking the Power of GPUs: The Heart of Modern Computing**\n",
      "\n",
      "In the realm of modern technology, Graphics Processing Units (GPUs) have revolutionized computing. Initially designed to render lifelike graphics for gaming, GPUs have transcended their original purpose. Their parallel processing capabilities now accelerate complex tasks such as artificial intelligence, deep learning, and big data analysis. As a result, GPUs empower scientists, engineers, and developers to solve intricate problems faster and more efficiently. With continuous advancements, GPUs are not just the future—they're the present driving force of innovation across industries. Dive into the world of GPUs and witness the future of performance computing today.\n",
      "\n",
      "--------------------------------------------------------------------------------\n",
      "\u001b[33mReviewer\u001b[0m (to Writer):\n",
      "\n",
      "**Review of \"Unlocking the Power of GPUs: The Heart of Modern Computing\"**\n",
      "\n",
      "Your blog post presents a compelling overview of GPUs and their significance in modern technology. Here are some constructive feedback points to consider for improvements:\n",
      "\n",
      "1. **Engagement:**\n",
      "   - The opening sentence is impactful, but consider drawing readers in with a teaser or a startling fact about GPUs to hook their attention even more.\n",
      "   - Example: \"Imagine solving complex scientific problems in seconds—this is the realm GPUs have unlocked.\"\n",
      "\n",
      "2. **Brevity:**\n",
      "   - While your content is concise, it slightly exceeds 100 words. Tighten a few sentences without losing essential information.\n",
      "   - Example revision: \"Designed initially for gaming graphics, GPUs now accelerate AI, deep learning, and big data tasks, enabling faster, more efficient problem-solving.\"\n",
      "\n",
      "3. **Clarity:**\n",
      "   - The phrase \"solve intricate problems faster and more efficiently\" is good, but specifying some industries or real-world applications could make it even clearer.\n",
      "   - Example: \"GPUs now power advancements in healthcare, autonomous driving, and climate modeling.\"\n",
      "\n",
      "4. **Call to Action:**\n",
      "   - While mentioning the future of GPUs is effective, consider adding a call to action to engage readers further, such as inviting them to explore specific GPU technologies or innovations.\n",
      "   - Example: \"Dive into the world of GPUs and witness how they reshape our technological landscape daily.\"\n",
      "\n",
      "Here's a revised version incorporating these suggestions:\n",
      "\n",
      "**Unlocking the Power of GPUs: The Heart of Modern Computing**\n",
      "\n",
      "Imagine solving complex scientific problems in seconds—this is the realm GPUs have unlocked. Initially crafted for lifelike gaming graphics, GPUs now drive advancements in AI, deep learning, and big data analysis with their parallel processing prowess. These powerful units enable scientists, engineers, and developers to tackle challenges in healthcare, autonomous driving, and climate modeling faster and more efficiently. As continuous advancements propel GPUs forward, they're not just the future—they’re actively shaping today's innovation across industries. Dive into the world of GPUs and discover the cutting edge of performance computing.\n",
      "\n",
      "(Updated word count: 99 words)\n",
      "\n",
      "--------------------------------------------------------------------------------\n",
      "\u001b[33mWriter\u001b[0m (to Reviewer):\n",
      "\n",
      "**Unlocking the Power of GPUs: The Heart of Modern Computing**\n",
      "\n",
      "Imagine solving complex scientific problems in seconds—this is the realm GPUs have unlocked. Initially crafted for lifelike gaming graphics, GPUs now drive advancements in AI, deep learning, and big data analysis with their parallel processing prowess. These powerful units enable scientists, engineers, and developers to tackle challenges in healthcare, autonomous driving, and climate modeling faster and more efficiently. As continuous advancements propel GPUs forward, they're not just the future—they’re actively shaping today's innovation across industries. Dive into the world of GPUs and discover the cutting edge of performance computing.\n",
      "\n",
      "--------------------------------------------------------------------------------\n"
     ]
    }
   ],
   "source": [
    "res = reviewer.initiate_chat(\n",
    "    recipient=writer,\n",
    "    message=task,\n",
    "    max_turns=2,\n",
    "    summary_method=\"last_msg\"\n",
    ")"
   ]
  },
  {
   "cell_type": "code",
   "execution_count": null,
   "id": "05d10592-ac88-4840-b265-6cbe6e50d822",
   "metadata": {},
   "outputs": [],
   "source": []
  }
 ],
 "metadata": {
  "kernelspec": {
   "display_name": "Python 3 (ipykernel)",
   "language": "python",
   "name": "python3"
  },
  "language_info": {
   "codemirror_mode": {
    "name": "ipython",
    "version": 3
   },
   "file_extension": ".py",
   "mimetype": "text/x-python",
   "name": "python",
   "nbconvert_exporter": "python",
   "pygments_lexer": "ipython3",
   "version": "3.12.6"
  }
 },
 "nbformat": 4,
 "nbformat_minor": 5
}
