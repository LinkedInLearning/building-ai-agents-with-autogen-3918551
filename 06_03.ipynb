{
 "cells": [
  {
   "cell_type": "markdown",
   "id": "ce5aa41a-0274-4af2-a5c5-efea984b590f",
   "metadata": {},
   "source": [
    "# Teachable Agents"
   ]
  },
  {
   "cell_type": "code",
   "execution_count": null,
   "id": "f44ef9df-79c1-42af-9d20-225c032db422",
   "metadata": {},
   "outputs": [],
   "source": [
    "! pip install \"pyautogen[teachable]\""
   ]
  },
  {
   "cell_type": "code",
   "execution_count": 1,
   "id": "d9712cce-d65c-406c-ba4d-67f4315d43f5",
   "metadata": {},
   "outputs": [
    {
     "data": {
      "text/plain": [
       "True"
      ]
     },
     "execution_count": 1,
     "metadata": {},
     "output_type": "execute_result"
    }
   ],
   "source": [
    "## import required libraries\n",
    "import os\n",
    "from autogen import UserProxyAgent, config_list_from_json\n",
    "from autogen.agentchat.contrib.capabilities.teachability import Teachability\n",
    "from autogen import ConversableAgent  # As an example\n",
    "from dotenv import load_dotenv\n",
    "\n",
    "load_dotenv(override=True) # load environment variables from .env file"
   ]
  },
  {
   "cell_type": "code",
   "execution_count": 2,
   "id": "b6d31702-1b73-4191-9c0c-32e7728b7968",
   "metadata": {},
   "outputs": [],
   "source": [
    "## llm configuration\n",
    "llm_config ={\n",
    "                \"model\": \"gpt-4o\",\n",
    "                \"api_key\": os.getenv(\"OPENAI_API_KEY\")\n",
    "            }"
   ]
  },
  {
   "cell_type": "markdown",
   "id": "525be306-0a08-4404-ae09-219b51417a18",
   "metadata": {},
   "source": [
    "## Create the agents"
   ]
  },
  {
   "cell_type": "code",
   "execution_count": 5,
   "id": "202bf45c-112f-4351-bc7a-9162fa890a28",
   "metadata": {},
   "outputs": [
    {
     "name": "stdout",
     "output_type": "stream",
     "text": [
      "\u001b[92m\n",
      "LOADING MEMORY FROM DISK\u001b[0m\n",
      "\u001b[92m    Location = ./tmp/interactive/teachability_db/uid_text_dict.pkl\u001b[0m\n"
     ]
    }
   ],
   "source": [
    "\n",
    "# Start by instantiating any agent that inherits from ConversableAgent, which we use directly here for simplicity.\n",
    "teachable_agent = ConversableAgent(\n",
    "    name=\"teachable_agent\",  # The name can be anything.\n",
    "    llm_config=llm_config\n",
    ")\n",
    "\n",
    "# Instantiate a Teachability object. Its parameters are all optional.\n",
    "teachability = Teachability(\n",
    "    reset_db=False,  # Use True to force-reset the memo DB, and False to use an existing DB.\n",
    "    path_to_db_dir=\"./tmp/interactive/teachability_db\"  # Can be any path, but teachable agents in a group chat require unique paths.\n",
    ")\n",
    "\n",
    "# Now add teachability to the agent.\n",
    "teachability.add_to_agent(teachable_agent)\n",
    "\n",
    "# For this test, create a user proxy agent as usual.\n",
    "user = UserProxyAgent(\n",
    "                \"user\", \n",
    "                human_input_mode=\"ALWAYS\",\n",
    "                code_execution_config={\"use_docker\": False}\n",
    "                )"
   ]
  },
  {
   "cell_type": "markdown",
   "id": "0e18ff1b-0a6f-4207-9632-2b130ab3f0a3",
   "metadata": {},
   "source": [
    "## Chat with teachable agent"
   ]
  },
  {
   "cell_type": "code",
   "execution_count": 4,
   "id": "f9a3b75b-ca4f-4987-946d-835d2279a913",
   "metadata": {},
   "outputs": [
    {
     "name": "stdout",
     "output_type": "stream",
     "text": [
      "\u001b[33mteachable_agent\u001b[0m (to user):\n",
      "\n",
      "Hi, I'm a teachable user assistant! What's on your mind?\n",
      "\n",
      "--------------------------------------------------------------------------------\n"
     ]
    },
    {
     "name": "stdin",
     "output_type": "stream",
     "text": [
      "Replying as user. Provide feedback to teachable_agent. Press enter to skip and use auto-reply, or type 'exit' to end the conversation:  Please summarise this abstract: AutoGen is an open-source framework that allows developers to build LLM applications via multiple agents that can converse with each other to accomplish tasks. AutoGen agents are customizable, conversable, and can operate in various modes that employ combinations of LLMs, human inputs, and tools. Using AutoGen, developers can also flexibly define agent interaction behaviors. Both natural language and computer code can be used to program flexible conversation patterns for different applications. AutoGen serves as a generic infrastructure to build diverse applications of various complexities and LLM capacities. Empirical studies demonstrate the effectiveness of the framework in many example applications, with domains ranging from mathematics, coding, question answering, operations research, online decision-making, entertainment, etc.\n"
     ]
    },
    {
     "name": "stdout",
     "output_type": "stream",
     "text": [
      "\u001b[33muser\u001b[0m (to teachable_agent):\n",
      "\n",
      "Please summarise this abstract: AutoGen is an open-source framework that allows developers to build LLM applications via multiple agents that can converse with each other to accomplish tasks. AutoGen agents are customizable, conversable, and can operate in various modes that employ combinations of LLMs, human inputs, and tools. Using AutoGen, developers can also flexibly define agent interaction behaviors. Both natural language and computer code can be used to program flexible conversation patterns for different applications. AutoGen serves as a generic infrastructure to build diverse applications of various complexities and LLM capacities. Empirical studies demonstrate the effectiveness of the framework in many example applications, with domains ranging from mathematics, coding, question answering, operations research, online decision-making, entertainment, etc.\n",
      "\n",
      "--------------------------------------------------------------------------------\n",
      "\u001b[31m\n",
      ">>>>>>>> USING AUTO REPLY...\u001b[0m\n",
      "\u001b[33mteachable_agent\u001b[0m (to user):\n",
      "\n",
      "AutoGen is an open-source framework designed for developers to create applications using multiple agents that communicate to perform tasks. These agents are customizable and can operate in different modes that integrate large language models (LLMs), human inputs, and other tools. Developers can define how agents interact using natural language or computer code, allowing for flexible conversation patterns tailored to various applications. AutoGen's versatility makes it suitable for building numerous applications of varying complexity across diverse domains, including mathematics, coding, question answering, and more. Empirical studies show the framework's effectiveness in these areas.\n",
      "\n",
      "--------------------------------------------------------------------------------\n"
     ]
    },
    {
     "name": "stdin",
     "output_type": "stream",
     "text": [
      "Replying as user. Provide feedback to teachable_agent. Press enter to skip and use auto-reply, or type 'exit' to end the conversation:  I always like my summary to have three bullet points, the title, the key ideas, and the key takeaways. Now, summarise this abstract: AutoGen is an open-source framework that allows developers to build LLM applications via multiple agents that can converse with each other to accomplish tasks. AutoGen agents are customizable, conversable, and can operate in various modes that employ combinations of LLMs, human inputs, and tools. Using AutoGen, developers can also flexibly define agent interaction behaviors. Both natural language and computer code can be used to program flexible conversation patterns for different applications. AutoGen serves as a generic infrastructure to build diverse applications of various complexities and LLM capacities. Empirical studies demonstrate the effectiveness of the framework in many example applications, with domains ranging from mathematics, coding, question answering, operations research, online decision-making, entertainment, etc.\n"
     ]
    },
    {
     "name": "stdout",
     "output_type": "stream",
     "text": [
      "\u001b[33muser\u001b[0m (to teachable_agent):\n",
      "\n",
      "I always like my summary to have three bullet points, the title, the key ideas, and the key takeaways. Now, summarise this abstract: AutoGen is an open-source framework that allows developers to build LLM applications via multiple agents that can converse with each other to accomplish tasks. AutoGen agents are customizable, conversable, and can operate in various modes that employ combinations of LLMs, human inputs, and tools. Using AutoGen, developers can also flexibly define agent interaction behaviors. Both natural language and computer code can be used to program flexible conversation patterns for different applications. AutoGen serves as a generic infrastructure to build diverse applications of various complexities and LLM capacities. Empirical studies demonstrate the effectiveness of the framework in many example applications, with domains ranging from mathematics, coding, question answering, operations research, online decision-making, entertainment, etc.\n",
      "\n",
      "--------------------------------------------------------------------------------\n",
      "\u001b[31m\n",
      ">>>>>>>> USING AUTO REPLY...\u001b[0m\n",
      "\u001b[33mteachable_agent\u001b[0m (to user):\n",
      "\n",
      "### Title: AutoGen Framework Overview\n",
      "\n",
      "**Key Ideas:**\n",
      "- AutoGen is an open-source framework for developing applications using multiple agents capable of conversing to accomplish tasks.\n",
      "- The agents in AutoGen are customizable, can operate in various modes integrating LLMs, human inputs, and tools, and their interaction behaviors can be defined using natural language or computer code.\n",
      "- AutoGen provides a flexible, generic infrastructure suitable for building diverse, complex applications across different domains.\n",
      "\n",
      "**Key Takeaways:**\n",
      "- AutoGen offers flexibility in defining conversation patterns for agents using both natural language and computer code.\n",
      "- The framework supports a variety of application domains, such as mathematics, coding, question answering, and entertainment, with demonstrated empirical effectiveness.\n",
      "- AutoGen enables the creation of applications that leverage the capabilities of LLMs, enhancing the versatility and complexity of agent interactions.\n",
      "\n",
      "--------------------------------------------------------------------------------\n"
     ]
    },
    {
     "name": "stdin",
     "output_type": "stream",
     "text": [
      "Replying as user. Provide feedback to teachable_agent. Press enter to skip and use auto-reply, or type 'exit' to end the conversation:  exit\n"
     ]
    },
    {
     "data": {
      "text/plain": [
       "ChatResult(chat_id=None, chat_history=[{'content': \"Hi, I'm a teachable user assistant! What's on your mind?\", 'role': 'assistant'}, {'content': 'Please summarise this abstract: AutoGen is an open-source framework that allows developers to build LLM applications via multiple agents that can converse with each other to accomplish tasks. AutoGen agents are customizable, conversable, and can operate in various modes that employ combinations of LLMs, human inputs, and tools. Using AutoGen, developers can also flexibly define agent interaction behaviors. Both natural language and computer code can be used to program flexible conversation patterns for different applications. AutoGen serves as a generic infrastructure to build diverse applications of various complexities and LLM capacities. Empirical studies demonstrate the effectiveness of the framework in many example applications, with domains ranging from mathematics, coding, question answering, operations research, online decision-making, entertainment, etc.', 'role': 'user'}, {'content': \"AutoGen is an open-source framework designed for developers to create applications using multiple agents that communicate to perform tasks. These agents are customizable and can operate in different modes that integrate large language models (LLMs), human inputs, and other tools. Developers can define how agents interact using natural language or computer code, allowing for flexible conversation patterns tailored to various applications. AutoGen's versatility makes it suitable for building numerous applications of varying complexity across diverse domains, including mathematics, coding, question answering, and more. Empirical studies show the framework's effectiveness in these areas.\", 'role': 'assistant'}, {'content': 'I always like my summary to have three bullet points, the title, the key ideas, and the key takeaways. Now, summarise this abstract: AutoGen is an open-source framework that allows developers to build LLM applications via multiple agents that can converse with each other to accomplish tasks. AutoGen agents are customizable, conversable, and can operate in various modes that employ combinations of LLMs, human inputs, and tools. Using AutoGen, developers can also flexibly define agent interaction behaviors. Both natural language and computer code can be used to program flexible conversation patterns for different applications. AutoGen serves as a generic infrastructure to build diverse applications of various complexities and LLM capacities. Empirical studies demonstrate the effectiveness of the framework in many example applications, with domains ranging from mathematics, coding, question answering, operations research, online decision-making, entertainment, etc.\\n\\n# Memories that might help\\n- Using AutoGen, developers can flexibly define agent interaction behaviors. Both natural language and computer code can be used to program flexible conversation patterns for different applications.\\n- AutoGen is an open-source framework that allows developers to build LLM applications via multiple agents that can converse with each other to accomplish tasks. AutoGen agents are customizable, conversable, and can operate in various modes that employ combinations of LLMs, human inputs, and tools. Using AutoGen, developers can also flexibly define agent interaction behaviors. Both natural language and computer code can be used to program flexible conversation patterns for different applications. AutoGen serves as a generic infrastructure to build diverse applications of various complexities and LLM capacities. Empirical studies demonstrate the effectiveness of the framework in many example applications, with domains ranging from mathematics, coding, question answering, operations research, online decision-making, entertainment, etc.\\n', 'role': 'user'}, {'content': '### Title: AutoGen Framework Overview\\n\\n**Key Ideas:**\\n- AutoGen is an open-source framework for developing applications using multiple agents capable of conversing to accomplish tasks.\\n- The agents in AutoGen are customizable, can operate in various modes integrating LLMs, human inputs, and tools, and their interaction behaviors can be defined using natural language or computer code.\\n- AutoGen provides a flexible, generic infrastructure suitable for building diverse, complex applications across different domains.\\n\\n**Key Takeaways:**\\n- AutoGen offers flexibility in defining conversation patterns for agents using both natural language and computer code.\\n- The framework supports a variety of application domains, such as mathematics, coding, question answering, and entertainment, with demonstrated empirical effectiveness.\\n- AutoGen enables the creation of applications that leverage the capabilities of LLMs, enhancing the versatility and complexity of agent interactions.', 'role': 'assistant'}], summary='### Title: AutoGen Framework Overview\\n\\n**Key Ideas:**\\n- AutoGen is an open-source framework for developing applications using multiple agents capable of conversing to accomplish tasks.\\n- The agents in AutoGen are customizable, can operate in various modes integrating LLMs, human inputs, and tools, and their interaction behaviors can be defined using natural language or computer code.\\n- AutoGen provides a flexible, generic infrastructure suitable for building diverse, complex applications across different domains.\\n\\n**Key Takeaways:**\\n- AutoGen offers flexibility in defining conversation patterns for agents using both natural language and computer code.\\n- The framework supports a variety of application domains, such as mathematics, coding, question answering, and entertainment, with demonstrated empirical effectiveness.\\n- AutoGen enables the creation of applications that leverage the capabilities of LLMs, enhancing the versatility and complexity of agent interactions.', cost={'usage_including_cached_inference': {'total_cost': 0.00865, 'gpt-4o-2024-05-13': {'cost': 0.00865, 'prompt_tokens': 878, 'completion_tokens': 284, 'total_tokens': 1162}}, 'usage_excluding_cached_inference': {'total_cost': 0.00865, 'gpt-4o-2024-05-13': {'cost': 0.00865, 'prompt_tokens': 878, 'completion_tokens': 284, 'total_tokens': 1162}}}, human_input=[])"
      ]
     },
     "execution_count": 4,
     "metadata": {},
     "output_type": "execute_result"
    }
   ],
   "source": [
    "# This function will return once the user types 'exit'.\n",
    "teachable_agent.initiate_chat(user, message=\"Hi, I'm a teachable user assistant! What's on your mind?\")"
   ]
  },
  {
   "cell_type": "code",
   "execution_count": null,
   "id": "c1afa0bc-322c-4f7e-8a9c-bf6c57053ee6",
   "metadata": {},
   "outputs": [
    {
     "name": "stdout",
     "output_type": "stream",
     "text": [
      "\u001b[33mteachable_agent\u001b[0m (to user):\n",
      "\n",
      "Hi, I'm a teachable user assistant! What's on your mind?\n",
      "\n",
      "--------------------------------------------------------------------------------\n"
     ]
    },
    {
     "name": "stdin",
     "output_type": "stream",
     "text": [
      "Replying as user. Provide feedback to teachable_agent. Press enter to skip and use auto-reply, or type 'exit' to end the conversation:  Please summarise: AutoGen is an open-source framework that allows developers to build LLM applications via multiple agents that can converse with each other to accomplish tasks. AutoGen agents are customizable, conversable, and can operate in various modes that employ combinations of LLMs, human inputs, and tools. Using AutoGen, developers can also flexibly define agent interaction behaviors. Both natural language and computer code can be used to program flexible conversation patterns for different applications. AutoGen serves as a generic infrastructure to build diverse applications of various complexities and LLM capacities. Empirical studies demonstrate the effectiveness of the framework in many example applications, with domains ranging from mathematics, coding, question answering, operations research, online decision-making, entertainment, etc.\n"
     ]
    },
    {
     "name": "stdout",
     "output_type": "stream",
     "text": [
      "\u001b[33muser\u001b[0m (to teachable_agent):\n",
      "\n",
      "Please summarise: AutoGen is an open-source framework that allows developers to build LLM applications via multiple agents that can converse with each other to accomplish tasks. AutoGen agents are customizable, conversable, and can operate in various modes that employ combinations of LLMs, human inputs, and tools. Using AutoGen, developers can also flexibly define agent interaction behaviors. Both natural language and computer code can be used to program flexible conversation patterns for different applications. AutoGen serves as a generic infrastructure to build diverse applications of various complexities and LLM capacities. Empirical studies demonstrate the effectiveness of the framework in many example applications, with domains ranging from mathematics, coding, question answering, operations research, online decision-making, entertainment, etc.\n",
      "\n",
      "--------------------------------------------------------------------------------\n",
      "\u001b[31m\n",
      ">>>>>>>> USING AUTO REPLY...\u001b[0m\n",
      "\u001b[33mteachable_agent\u001b[0m (to user):\n",
      "\n",
      "### Summary: AutoGen Framework\n",
      "\n",
      "**Title:** AutoGen Framework\n",
      "\n",
      "**Key Ideas:**\n",
      "- AutoGen is an open-source framework designed for building LLM applications.\n",
      "- It utilizes multiple customizable agents capable of conversing with each other to accomplish tasks.\n",
      "- The agents can operate in several modes, incorporating combinations of large language models (LLMs), human inputs, and tools.\n",
      "- Developers have the flexibility to define agent interaction behaviors using natural language and computer code to create versatile conversation patterns.\n",
      "\n",
      "**Key Takeaways:**\n",
      "- AutoGen serves as a generic infrastructure suitable for developing a diverse range of applications, accommodating various complexities and LLM capacities.\n",
      "- Empirical studies show AutoGen’s effectiveness across multiple domains, including mathematics, coding, question answering, operations research, online decision-making, and entertainment.\n",
      "\n",
      "--------------------------------------------------------------------------------\n"
     ]
    },
    {
     "name": "stdin",
     "output_type": "stream",
     "text": [
      "Replying as user. Provide feedback to teachable_agent. Press enter to skip and use auto-reply, or type 'exit' to end the conversation:  Consider the identity: 7 * 5 + 8 * 3 = 59 Can you modify exactly one integer (and not more than that!) on the left hand side of the equation so the right hand side becomes 80? Let's think step-by-step, write down a plan, and then write down your solution as: \"The solution is: A * B + C * D\".\n"
     ]
    },
    {
     "name": "stdout",
     "output_type": "stream",
     "text": [
      "\u001b[33muser\u001b[0m (to teachable_agent):\n",
      "\n",
      "Consider the identity: 7 * 5 + 8 * 3 = 59 Can you modify exactly one integer (and not more than that!) on the left hand side of the equation so the right hand side becomes 80? Let's think step-by-step, write down a plan, and then write down your solution as: \"The solution is: A * B + C * D\".\n",
      "\n",
      "--------------------------------------------------------------------------------\n",
      "\u001b[31m\n",
      ">>>>>>>> USING AUTO REPLY...\u001b[0m\n",
      "\u001b[33mteachable_agent\u001b[0m (to user):\n",
      "\n",
      "### Plan:\n",
      "1. Identify the current value of the left-hand side of the equation: \\(7 \\times 5 + 8 \\times 3\\).\n",
      "2. Calculate the current value of the right-hand side of the equation: \\(59\\).\n",
      "3. Determine the target value for the right-hand side of the equation: \\(80\\).\n",
      "4. Compute the difference between the target value (\\(80\\)) and the current value (\\(59\\)).\n",
      "5. Investigate which single integer modification (from \\(7, 5, 8, \\text{or} 3\\)) can achieve the necessary adjustment to match the target value.\n",
      "6. Verify the modified equation to ensure the left-hand side equals the target right-hand side.\n",
      "\n",
      "### Solution Steps:\n",
      "1. Calculate the current left-hand side:\n",
      "   \\[\n",
      "   7 \\times 5 + 8 \\times 3 = 35 + 24 = 59\n",
      "   \\]\n",
      "2. Identify the target:\n",
      "   \\[\n",
      "   80\n",
      "   \\]\n",
      "3. Determine the necessary adjustment:\n",
      "   \\[\n",
      "   80 - 59 = 21\n",
      "   \\]\n",
      "4. Consider modifying each integer one-by-one to achieve an additional \\(21\\):\n",
      "   - If \\(7\\) were modified: New term = \\(5n\\); we need \\(35 + 24 + 21\\) which means:\n",
      "     \\[\n",
      "     35 + 5n = 56; \\quad 5n = 56 - 24 = 32; \\quad n = 8 \\quad \\text{(impossible as a single integer change)}\n",
      "     \\]\n",
      "   - If \\(5\\) were modified: New term = \\(7m\\):\n",
      "     \\[\n",
      "     7m\\ + 24 = 80; \\quad 7m = 80 - 24 = 56; \\quad m = 8; \\quad \\text{new equation } 7 \\times 8 + 8 \\times 3 = 56 + 24 = 80\n",
      "     \\]  \n",
      "   - If \\(8\\) were modified: try updating the term linked to 3:\n",
      "     \\[\n",
      "     n \\times 3 = 59 + 21 = 80; n = 27 \\quad \\text{(impossible as above)}\n",
      "     \\]\n",
      "   - If \\(3\\) were modified: try updating the term linked to 8:\n",
      "     \\[\n",
      "     24 + 35 + 8 \\times n = 80 - 35; \\quad 8 \\times n = 60 \\rightarrow n = 7.5 \\quad \\text{(invalid as it must be an integer)}\n",
      "     \\]\n",
      "\n",
      "### Conclusion:\n",
      "The only valid change is modifying the integer 5 to 8 in the first term: 7*8 and 8*3 yielding:\n",
      "\n",
      "**The solution is: 7 * 8 + 8 * 3 (\\(7 \\times 8 + 8 \\times 3\\)).**\n",
      "\n",
      "Final Calculation:\n",
      "\\[\n",
      "7 \\times 8 = 56; \\quad 8 \\times 3 = 24; \\quad resulting eq: 56 + 24 = 80 \\quad \\text{matching target}.\n",
      "\\]\n",
      "Thus, \n",
      "\n",
      "**Final Solution: \\(7 \\times 8 + 8 \\times 3\\).**\n",
      "\n",
      "--------------------------------------------------------------------------------\n"
     ]
    },
    {
     "name": "stdin",
     "output_type": "stream",
     "text": [
      "Replying as user. Provide feedback to teachable_agent. Press enter to skip and use auto-reply, or type 'exit' to end the conversation:  Consider the identity: 7 * 5 + 8 * 3 = 59 Can you modify exactly one integer (and not more than that!) on the left hand side of the equation so the right hand side becomes 80? Let's think step-by-step, write down a plan, and then write down your solution as: \"The solution is: A * B + C * D\". Here's some advice that may help: 1. Let E denote the original number on the right. 2. Let F denote the final number on the right. 3. Calculate the difference between the two, G = F - E. 4. Examine the numbers on the left one by one until finding one that divides evenly into G, where negative integers are allowed. 5. Calculate J = G / H. This is the number of times that H divides into G. 6. Verify that J is an integer, and that H * J = G. 7. Find the number on the left which is multiplied by H, and call it K. 8. Change K to K + J. 9. Recompute the value on the left, and verify that it equals F. Finally, write down your solution as: \"The solution is: A * B + C * D\".\n"
     ]
    },
    {
     "name": "stdout",
     "output_type": "stream",
     "text": [
      "\u001b[33muser\u001b[0m (to teachable_agent):\n",
      "\n",
      "Consider the identity: 7 * 5 + 8 * 3 = 59 Can you modify exactly one integer (and not more than that!) on the left hand side of the equation so the right hand side becomes 80? Let's think step-by-step, write down a plan, and then write down your solution as: \"The solution is: A * B + C * D\". Here's some advice that may help: 1. Let E denote the original number on the right. 2. Let F denote the final number on the right. 3. Calculate the difference between the two, G = F - E. 4. Examine the numbers on the left one by one until finding one that divides evenly into G, where negative integers are allowed. 5. Calculate J = G / H. This is the number of times that H divides into G. 6. Verify that J is an integer, and that H * J = G. 7. Find the number on the left which is multiplied by H, and call it K. 8. Change K to K + J. 9. Recompute the value on the left, and verify that it equals F. Finally, write down your solution as: \"The solution is: A * B + C * D\".\n",
      "\n",
      "--------------------------------------------------------------------------------\n",
      "\u001b[31m\n",
      ">>>>>>>> USING AUTO REPLY...\u001b[0m\n",
      "\u001b[33mteachable_agent\u001b[0m (to user):\n",
      "\n",
      "### Plan:\n",
      "1. Identify the current value of the left-hand side of the equation: \\(7 \\times 5 + 8 \\times 3\\).\n",
      "2. Calculate the current value on the right-hand side of the equation: \\(59\\).\n",
      "3. Determine the target value for the right-hand side of the equation: \\(80\\).\n",
      "4. Calculate the difference between the target value (\\(80\\)) and the current value (\\(59\\)), call this difference \\(G\\).\n",
      "5. Examine the numbers on the left one by one to find one that divides evenly into \\(G\\) (negative integers allowed), and call the factor \\(H\\).\n",
      "6. Calculate \\(J = G / H\\), ensuring \\(J\\) is an integer.\n",
      "7. Identify which number on the left is multiplied by \\(H\\), called \\(K\\), and change \\(K\\) to \\(K + J\\).\n",
      "8. Recompute the value on the left to verify it matches \\(F\\) (the target value).\n",
      "\n",
      "### Solution Steps:\n",
      "1. Calculate the current left-hand side:\n",
      "   \\[\n",
      "   7 \\times 5 + 8 \\times 3 = 35 + 24 = 59\n",
      "   \\]\n",
      "2. Target right-hand side:\n",
      "   \\[\n",
      "   80\n",
      "   \\]\n",
      "3. Calculate the difference \\(G\\):\n",
      "   \\[\n",
      "   G = 80 - 59 = 21\n",
      "   \\]\n",
      "4. Find an \\(H\\) (a factor of \\(G\\)) from the numbers on the left such that it divides \\(G\\) evenly:\n",
      "   - Start with the coefficients \\(7, 5, 8, 3\\).\n",
      "\n",
      "   - Check \\(5\\) first:\n",
      "     \\[\n",
      "     21 / 5 = 4.2 \\quad (\\text{not an integer})\n",
      "     \\]\n",
      "\n",
      "   - Check \\(3\\):\n",
      "     \\[\n",
      "     21 / 3 = 7 \\quad (\\text{integer})\n",
      "     \\]\n",
      "\n",
      "   - Check \\(7\\):\n",
      "     \\[\n",
      "     21 / 7 = 3 \\quad (\\text{integer})\n",
      "     \\]\n",
      "\n",
      "5. We have two potential candidates: \\(3\\) and \\(7\\).\n",
      "\n",
      "   *Let's proceed with \\(H = 7\\) since modifying the smaller multiplier has more impact:*\n",
      "\n",
      "6. Calculate \\(J = G / H\\):\n",
      "   \\[\n",
      "   J = 21 / 7 = 3\n",
      "   \\]\n",
      "7. Identify the corresponding multiplier for \\(H (= 7)\\):\n",
      "   - This is \\(5\\) in our equation \\(7 \\times 5\\).\n",
      "\n",
      "8. Modify \\(K = 5\\) to \\(K + J = 5 + 3 = 8\\).\n",
      "\n",
      "### Final Verification:\n",
      "Recompute the left-hand side:\n",
      "   \\[\n",
      "   7 \\times 8 + 8 \\times 3 = 56 + 24 = 80\n",
      "   \\]\n",
      "\n",
      "Therefore,\n",
      "\n",
      "**The solution is: \\(7 \\times 8 + 8 \\times 3\\).**\n",
      "\n",
      "--------------------------------------------------------------------------------\n"
     ]
    }
   ],
   "source": [
    "teachable_agent.initiate_chat(user, message=\"Hi, I'm a teachable user assistant! What's on your mind?\")"
   ]
  },
  {
   "cell_type": "code",
   "execution_count": null,
   "id": "f31d0b55-8422-40ec-89c4-70ecfb8110a8",
   "metadata": {},
   "outputs": [],
   "source": []
  }
 ],
 "metadata": {
  "kernelspec": {
   "display_name": "Python 3 (ipykernel)",
   "language": "python",
   "name": "python3"
  },
  "language_info": {
   "codemirror_mode": {
    "name": "ipython",
    "version": 3
   },
   "file_extension": ".py",
   "mimetype": "text/x-python",
   "name": "python",
   "nbconvert_exporter": "python",
   "pygments_lexer": "ipython3",
   "version": "3.12.6"
  }
 },
 "nbformat": 4,
 "nbformat_minor": 5
}
