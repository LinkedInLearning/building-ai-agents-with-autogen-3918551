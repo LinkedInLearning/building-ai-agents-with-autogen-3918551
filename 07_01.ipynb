{
 "cells": [
  {
   "cell_type": "markdown",
   "id": "ce5aa41a-0274-4af2-a5c5-efea984b590f",
   "metadata": {},
   "source": [
    "# Building a data analysis company with Group Chat"
   ]
  },
  {
   "cell_type": "code",
   "execution_count": 1,
   "id": "d9712cce-d65c-406c-ba4d-67f4315d43f5",
   "metadata": {},
   "outputs": [
    {
     "data": {
      "text/plain": [
       "True"
      ]
     },
     "execution_count": 1,
     "metadata": {},
     "output_type": "execute_result"
    }
   ],
   "source": [
    "## import required libraries\n",
    "import os\n",
    "from autogen import UserProxyAgent, AssistantAgent, GroupChat, GroupChatManager\n",
    "from autogen import ConversableAgent\n",
    "from dotenv import load_dotenv\n",
    "\n",
    "load_dotenv(override=True) # load environment variables from .env file"
   ]
  },
  {
   "cell_type": "code",
   "execution_count": 2,
   "id": "b6d31702-1b73-4191-9c0c-32e7728b7968",
   "metadata": {},
   "outputs": [],
   "source": [
    "## llm configuration\n",
    "llm_config ={\n",
    "                \"model\": \"gpt-4o\",\n",
    "                \"api_key\": os.getenv(\"OPENAI_API_KEY\")\n",
    "            }"
   ]
  },
  {
   "cell_type": "markdown",
   "id": "525be306-0a08-4404-ae09-219b51417a18",
   "metadata": {},
   "source": [
    "## The task!"
   ]
  },
  {
   "cell_type": "code",
   "execution_count": 3,
   "id": "202bf45c-112f-4351-bc7a-9162fa890a28",
   "metadata": {},
   "outputs": [],
   "source": [
    "task = \"Analyze the daily closing prices of Apple (AAPL) stock for the past 1 month and create a brief report.\""
   ]
  },
  {
   "cell_type": "markdown",
   "id": "ac20c0b0-0bfa-483c-8044-c068a0b5c905",
   "metadata": {},
   "source": [
    "## Create the Agents\n",
    "\n",
    "This group chat will include these agents:\n",
    "\n",
    "- User_proxy or Admin: to allow the user to comment on the report and ask the writer to refine it.\n",
    "- Planner: to determine relevant information needed to complete the task.\n",
    "- Engineer: to write code using the defined plan by the planner.\n",
    "- Executor: to execute the code written by the engineer.\n",
    "- Writer: to write the report."
   ]
  },
  {
   "cell_type": "code",
   "execution_count": 4,
   "id": "bdf2410d-a53b-4cb5-883a-bc345bac874e",
   "metadata": {},
   "outputs": [],
   "source": [
    "user_proxy = UserProxyAgent(\n",
    "    name=\"Admin\",\n",
    "    system_message=\"Give the task, and send instructions to the writer to refine the stock analysis report.\",\n",
    "    code_execution_config=False,\n",
    "    llm_config=llm_config,\n",
    "    human_input_mode=\"ALWAYS\"\n",
    ")"
   ]
  },
  {
   "cell_type": "code",
   "execution_count": 5,
   "id": "49e4bc18-c4b1-4533-a79a-7a6a7bce506e",
   "metadata": {},
   "outputs": [],
   "source": [
    "## planner agent\n",
    "planner = ConversableAgent(\n",
    "    name=\"Planner\",\n",
    "    system_message=\"\"\"\n",
    "    Given a task, please determine what stock information is needed to complete the task. \n",
    "    Please note that the information will all be retrieved using Python code. \n",
    "    Please only suggest information that can be retrieved using Python code. \n",
    "    After each step is done by others, check the progress and instruct the remaining steps. \n",
    "    If a step fails, try to workaround.\n",
    "    \"\"\",\n",
    "    llm_config=llm_config,\n",
    ")"
   ]
  },
  {
   "cell_type": "code",
   "execution_count": 6,
   "id": "a562cdcc-d845-48c2-8a1d-22ec229239d0",
   "metadata": {},
   "outputs": [],
   "source": [
    "## engineer agent\n",
    "engineer = AssistantAgent(\n",
    "    name=\"Engineer\",\n",
    "    llm_config=llm_config,\n",
    "    description=\"An engineer that writes code to fetch and analyze stock data based on the plan provided by the planner.\",\n",
    ")"
   ]
  },
  {
   "cell_type": "code",
   "execution_count": 7,
   "id": "a54471b5-3891-494e-a3b3-6d096a647b5c",
   "metadata": {},
   "outputs": [],
   "source": [
    "## executor agent\n",
    "executor = ConversableAgent(\n",
    "    name=\"Executor\",\n",
    "    system_message=\"Execute the code written by the engineer and report the stock data results.\",\n",
    "    human_input_mode=\"NEVER\",\n",
    "    code_execution_config={\n",
    "        \"last_n_messages\": 6,\n",
    "        \"work_dir\": \"coding\",\n",
    "        \"use_docker\": False,\n",
    "    },\n",
    ")"
   ]
  },
  {
   "cell_type": "code",
   "execution_count": 8,
   "id": "75257745-74fc-4f58-95b5-466a9e0febdb",
   "metadata": {},
   "outputs": [],
   "source": [
    "## writer agent\n",
    "writer = ConversableAgent(\n",
    "    name=\"Writer\",\n",
    "    llm_config=llm_config,\n",
    "    system_message=\"Stock Analysis Report Writer. Please write stock analysis reports in markdown format (with relevant titles) and put the content in pseudo ```md``` code block. You take feedback from the admin and refine your report.\",\n",
    "    description=\"Writer. Write stock analysis reports based on the code execution results and take feedback from the admin to refine the report.\"\n",
    ")"
   ]
  },
  {
   "cell_type": "code",
   "execution_count": null,
   "id": "95f5d2c3-859e-4820-817f-9a4c62bb9af7",
   "metadata": {},
   "outputs": [],
   "source": []
  }
 ],
 "metadata": {
  "kernelspec": {
   "display_name": "Python 3 (ipykernel)",
   "language": "python",
   "name": "python3"
  },
  "language_info": {
   "codemirror_mode": {
    "name": "ipython",
    "version": 3
   },
   "file_extension": ".py",
   "mimetype": "text/x-python",
   "name": "python",
   "nbconvert_exporter": "python",
   "pygments_lexer": "ipython3",
   "version": "3.12.6"
  }
 },
 "nbformat": 4,
 "nbformat_minor": 5
}
