{
 "cells": [
  {
   "cell_type": "markdown",
   "id": "ce5aa41a-0274-4af2-a5c5-efea984b590f",
   "metadata": {},
   "source": [
    "# Coding copilot with Autogen"
   ]
  },
  {
   "cell_type": "code",
   "execution_count": 1,
   "id": "d9712cce-d65c-406c-ba4d-67f4315d43f5",
   "metadata": {},
   "outputs": [
    {
     "data": {
      "text/plain": [
       "True"
      ]
     },
     "execution_count": 1,
     "metadata": {},
     "output_type": "execute_result"
    }
   ],
   "source": [
    "## import required libraries\n",
    "import os\n",
    "from autogen import AssistantAgent, ConversableAgent\n",
    "from autogen.coding import LocalCommandLineCodeExecutor\n",
    "from dotenv import load_dotenv\n",
    "\n",
    "\n",
    "load_dotenv() # load environment variables from .env file"
   ]
  },
  {
   "cell_type": "code",
   "execution_count": 2,
   "id": "b6d31702-1b73-4191-9c0c-32e7728b7968",
   "metadata": {},
   "outputs": [],
   "source": [
    "## llm configuration\n",
    "llm_config ={\n",
    "                \"model\": \"gpt-4o\",\n",
    "                \"api_key\": os.getenv(\"OPENAI_API_KEY\")\n",
    "            }"
   ]
  },
  {
   "cell_type": "markdown",
   "id": "7e8a6b77-b67c-44b3-8d6e-dc8af7314242",
   "metadata": {},
   "source": [
    "## Custom functions for stock analysis"
   ]
  },
  {
   "cell_type": "code",
   "execution_count": null,
   "id": "6f6a5e2d-d808-4be4-9586-c7c6704be100",
   "metadata": {},
   "outputs": [],
   "source": [
    "## function to get stock data\n",
    "def get_stock_prices(\n",
    "    stock_symbols,\n",
    "    start_date,\n",
    "    end_date\n",
    "):\n",
    "    \"\"\"\n",
    "    Fetch stock closing prices for given stock symbols between start and end dates.\n",
    "\n",
    "    Args:\n",
    "        stock_symbols: Stock symbol(s) to fetch prices for. Can be a string or a list of strings.\n",
    "        start_date: The start date in 'YYYY-MM-DD' format.\n",
    "        end_date: The end date in 'YYYY-MM-DD' format.\n",
    "\n",
    "    Returns:\n",
    "        DataFrame: Stock closing prices indexed by date, with one column per stock symbol.\n",
    "    \"\"\"\n",
    "    import yfinance\n",
    "    from pandas import DataFrame\n",
    "    \n",
    "    try:\n",
    "        stock_data = yfinance.download(stock_symbols, start=start_date, end=end_date)\n",
    "        return stock_data[\"Close\"]\n",
    "    except Exception as e:\n",
    "        print(f\"Error fetching stock data: {str(e)}\")\n",
    "        return DataFrame()"
   ]
  },
  {
   "cell_type": "code",
   "execution_count": null,
   "id": "d15170a0-480c-44db-bb89-5af362ed75e1",
   "metadata": {},
   "outputs": [],
   "source": [
    "## plot the stock prices\n",
    "def plot_stock_prices(stock_prices: DataFrame, filename: str) -> None:\n",
    "    \"\"\"\n",
    "    Plot stock prices and save the figure to a file.\n",
    "\n",
    "    Args:\n",
    "        stock_prices (DataFrame): Stock prices indexed by date, with columns for each stock.\n",
    "        filename (str): Name of the file to save the plot.\n",
    "    \"\"\"\n",
    "    import matplotlib.pyplot as plt\n",
    "    from pandas import DataFrame\n",
    "    \n",
    "    plt.figure(figsize=(10, 5))\n",
    "    stock_prices.plot(ax=plt.gca(), grid=True)\n",
    "    plt.title(\"Stock Prices\")\n",
    "    plt.xlabel(\"Date\")\n",
    "    plt.ylabel(\"Price\")\n",
    "    plt.legend(loc='best')\n",
    "    plt.savefig(filename)\n",
    "    plt.close()"
   ]
  },
  {
   "cell_type": "markdown",
   "id": "b8fcf331-d485-45fe-ab68-86bdc38a539d",
   "metadata": {},
   "source": [
    "## A new executor with custom functions"
   ]
  },
  {
   "cell_type": "code",
   "execution_count": null,
   "id": "efc3929d-a972-47a2-8d6f-650a036bf671",
   "metadata": {},
   "outputs": [],
   "source": [
    "executor = LocalCommandLineCodeExecutor(\n",
    "    timeout=60,\n",
    "    work_dir=\"coding\",\n",
    "    functions=[get_stock_prices, plot_stock_prices],\n",
    ")"
   ]
  },
  {
   "cell_type": "code",
   "execution_count": null,
   "id": "cf8529e2-6c45-4bee-b9da-57b22e06d8ed",
   "metadata": {},
   "outputs": [],
   "source": [
    "code_writer_agent_system_message += executor.format_functions_for_prompt()\n",
    "print(code_writer_agent_system_message)"
   ]
  },
  {
   "cell_type": "markdown",
   "id": "c23e46b8-9030-49b9-971f-2b9f8ad1408d",
   "metadata": {},
   "source": [
    "## Create agents with updated system message"
   ]
  },
  {
   "cell_type": "code",
   "execution_count": null,
   "id": "035ea2b8-04c2-4499-a47e-1b2971c0a726",
   "metadata": {},
   "outputs": [],
   "source": [
    "code_writer_agent = ConversableAgent(\n",
    "    name=\"code_writer_agent\",\n",
    "    system_message=code_writer_agent_system_message,\n",
    "    llm_config=llm_config,\n",
    "    code_execution_config=False,\n",
    "    human_input_mode=\"NEVER\",\n",
    ")"
   ]
  },
  {
   "cell_type": "code",
   "execution_count": null,
   "id": "a07b947b-369b-449d-b1f9-c1db2cafa2d8",
   "metadata": {},
   "outputs": [],
   "source": [
    "code_executor_agent = ConversableAgent(\n",
    "    name=\"code_executor_agent\",\n",
    "    llm_config=False,\n",
    "    code_execution_config={\"executor\": executor},\n",
    "    human_input_mode=\"ALWAYS\",\n",
    "    default_auto_reply=\n",
    "    \"Please continue. If everything is done, reply 'TERMINATE'.\",\n",
    ")"
   ]
  },
  {
   "cell_type": "code",
   "execution_count": null,
   "id": "823d8703-1b5c-4c01-b683-c254055831fa",
   "metadata": {},
   "outputs": [],
   "source": [
    "chat_result = code_executor_agent.initiate_chat(\n",
    "    code_writer_agent,\n",
    "    message=f\"Today is {today}.\"\n",
    "    \"Download the stock prices YTD for NVDA and TSLA and create\"\n",
    "    \"a plot. Make sure the code is in markdown code block and \"\n",
    "    \"save the figure to a file stock_prices_YTD_plot.png.\",\n",
    ")"
   ]
  },
  {
   "cell_type": "markdown",
   "id": "6d7af8b4-67b2-437d-a72b-e0493ca743ee",
   "metadata": {},
   "source": [
    "## Plot the results"
   ]
  },
  {
   "cell_type": "code",
   "execution_count": null,
   "id": "8b20108d-99ff-4fa3-8a08-392efff4bf46",
   "metadata": {},
   "outputs": [],
   "source": [
    "Image(os.path.join(\"coding\", \"stock_prices_YTD_plot.png\"))"
   ]
  }
 ],
 "metadata": {
  "kernelspec": {
   "display_name": "Python 3 (ipykernel)",
   "language": "python",
   "name": "python3"
  },
  "language_info": {
   "codemirror_mode": {
    "name": "ipython",
    "version": 3
   },
   "file_extension": ".py",
   "mimetype": "text/x-python",
   "name": "python",
   "nbconvert_exporter": "python",
   "pygments_lexer": "ipython3",
   "version": "3.12.3"
  }
 },
 "nbformat": 4,
 "nbformat_minor": 5
}
