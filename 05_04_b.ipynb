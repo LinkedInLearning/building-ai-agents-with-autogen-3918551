{
 "cells": [
  {
   "cell_type": "markdown",
   "id": "ce5aa41a-0274-4af2-a5c5-efea984b590f",
   "metadata": {},
   "source": [
    "# Coding copilot with Autogen"
   ]
  },
  {
   "cell_type": "code",
   "execution_count": 1,
   "id": "d9712cce-d65c-406c-ba4d-67f4315d43f5",
   "metadata": {},
   "outputs": [
    {
     "data": {
      "text/plain": [
       "True"
      ]
     },
     "execution_count": 1,
     "metadata": {},
     "output_type": "execute_result"
    }
   ],
   "source": [
    "## import required libraries\n",
    "import os\n",
    "from autogen import AssistantAgent, ConversableAgent\n",
    "from autogen.coding import LocalCommandLineCodeExecutor\n",
    "from dotenv import load_dotenv\n",
    "\n",
    "\n",
    "load_dotenv() # load environment variables from .env file"
   ]
  },
  {
   "cell_type": "code",
   "execution_count": 2,
   "id": "b6d31702-1b73-4191-9c0c-32e7728b7968",
   "metadata": {},
   "outputs": [],
   "source": [
    "## llm configuration\n",
    "llm_config ={\n",
    "                \"model\": \"gpt-4o\",\n",
    "                \"api_key\": os.getenv(\"OPENAI_API_KEY\")\n",
    "            }"
   ]
  },
  {
   "cell_type": "markdown",
   "id": "7e8a6b77-b67c-44b3-8d6e-dc8af7314242",
   "metadata": {},
   "source": [
    "## Custom functions for stock analysis"
   ]
  },
  {
   "cell_type": "code",
   "execution_count": null,
   "id": "e91259d9-e79e-4631-8e8e-3fcead683b32",
   "metadata": {},
   "outputs": [],
   "source": []
  }
 ],
 "metadata": {
  "kernelspec": {
   "display_name": "Python 3 (ipykernel)",
   "language": "python",
   "name": "python3"
  },
  "language_info": {
   "codemirror_mode": {
    "name": "ipython",
    "version": 3
   },
   "file_extension": ".py",
   "mimetype": "text/x-python",
   "name": "python",
   "nbconvert_exporter": "python",
   "pygments_lexer": "ipython3",
   "version": "3.12.3"
  }
 },
 "nbformat": 4,
 "nbformat_minor": 5
}
