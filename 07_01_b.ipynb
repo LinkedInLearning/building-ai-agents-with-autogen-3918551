{
 "cells": [
  {
   "cell_type": "markdown",
   "id": "ce5aa41a-0274-4af2-a5c5-efea984b590f",
   "metadata": {},
   "source": [
    "# Teachable Agents"
   ]
  },
  {
   "cell_type": "code",
   "execution_count": null,
   "id": "f44ef9df-79c1-42af-9d20-225c032db422",
   "metadata": {},
   "outputs": [],
   "source": [
    "! pip install \"pyautogen[teachable]\""
   ]
  },
  {
   "cell_type": "code",
   "execution_count": null,
   "id": "d9712cce-d65c-406c-ba4d-67f4315d43f5",
   "metadata": {},
   "outputs": [],
   "source": [
    "## import required libraries\n",
    "import os\n",
    "from autogen import UserProxyAgent\n",
    "from autogen import ConversableAgent  # As an example\n",
    "\n",
    "load_dotenv() # load environment variables from .env file"
   ]
  },
  {
   "cell_type": "code",
   "execution_count": null,
   "id": "b6d31702-1b73-4191-9c0c-32e7728b7968",
   "metadata": {},
   "outputs": [],
   "source": [
    "## llm configuration\n",
    "llm_config ={\n",
    "                \"model\": \"gpt-4o\",\n",
    "                \"api_key\": os.getenv(\"OPENAI_API_KEY\")\n",
    "            }"
   ]
  },
  {
   "cell_type": "markdown",
   "id": "525be306-0a08-4404-ae09-219b51417a18",
   "metadata": {},
   "source": [
    "## The task!"
   ]
  },
  {
   "cell_type": "code",
   "execution_count": null,
   "id": "202bf45c-112f-4351-bc7a-9162fa890a28",
   "metadata": {},
   "outputs": [],
   "source": [
    "task = \"Write a detailed weather analysis report for New York City \"\\\n",
    "\"over the past week. Today's date is 2024-04-23.\""
   ]
  },
  {
   "cell_type": "code",
   "execution_count": null,
   "id": "99dc083b-15ad-4ce9-8507-063bbc90e943",
   "metadata": {},
   "outputs": [],
   "source": []
  }
 ],
 "metadata": {
  "kernelspec": {
   "display_name": "Python 3 (ipykernel)",
   "language": "python",
   "name": "python3"
  },
  "language_info": {
   "codemirror_mode": {
    "name": "ipython",
    "version": 3
   },
   "file_extension": ".py",
   "mimetype": "text/x-python",
   "name": "python",
   "nbconvert_exporter": "python",
   "pygments_lexer": "ipython3",
   "version": "3.12.3"
  }
 },
 "nbformat": 4,
 "nbformat_minor": 5
}
