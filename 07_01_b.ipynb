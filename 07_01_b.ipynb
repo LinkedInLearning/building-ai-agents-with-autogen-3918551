{
 "cells": [
  {
   "cell_type": "markdown",
   "id": "ce5aa41a-0274-4af2-a5c5-efea984b590f",
   "metadata": {},
   "source": [
    "# Building a data analysis company with Group Chat"
   ]
  },
  {
   "cell_type": "code",
   "execution_count": null,
   "id": "f44ef9df-79c1-42af-9d20-225c032db422",
   "metadata": {},
   "outputs": [],
   "source": [
    "! pip install \"pyautogen[teachable]\""
   ]
  },
  {
   "cell_type": "code",
   "execution_count": null,
   "id": "d9712cce-d65c-406c-ba4d-67f4315d43f5",
   "metadata": {},
   "outputs": [],
   "source": [
    "## import required libraries\n",
    "import os\n",
    "from autogen import UserProxyAgent\n",
    "from autogen import ConversableAgent  # As an example\n",
    "\n",
    "load_dotenv() # load environment variables from .env file"
   ]
  },
  {
   "cell_type": "code",
   "execution_count": null,
   "id": "b6d31702-1b73-4191-9c0c-32e7728b7968",
   "metadata": {},
   "outputs": [],
   "source": [
    "## llm configuration\n",
    "llm_config ={\n",
    "                \"model\": \"gpt-4o\",\n",
    "                \"api_key\": os.getenv(\"OPENAI_API_KEY\")\n",
    "            }"
   ]
  },
  {
   "cell_type": "markdown",
   "id": "525be306-0a08-4404-ae09-219b51417a18",
   "metadata": {},
   "source": [
    "## The task!"
   ]
  },
  {
   "cell_type": "code",
   "execution_count": null,
   "id": "202bf45c-112f-4351-bc7a-9162fa890a28",
   "metadata": {},
   "outputs": [],
   "source": [
    "task = \"Write a detailed weather analysis report for New York City \"\\\n",
    "\"over the past week. Today's date is 2024-04-23.\""
   ]
  },
  {
   "cell_type": "markdown",
   "id": "ac20c0b0-0bfa-483c-8044-c068a0b5c905",
   "metadata": {},
   "source": [
    "## Create a group chat\n",
    "\n",
    "This group chat will include these agents:\n",
    "\n",
    "- User_proxy or Admin: to allow the user to comment on the report and ask the writer to refine it.\n",
    "- Planner: to determine relevant information needed to complete the task.\n",
    "- Engineer: to write code using the defined plan by the planner.\n",
    "- Executor: to execute the code written by the engineer.\n",
    "- Writer: to write the report."
   ]
  },
  {
   "cell_type": "code",
   "execution_count": null,
   "id": "f47b2f93-59c6-459c-8cb9-881b3837e5ac",
   "metadata": {},
   "outputs": [],
   "source": []
  },
  {
   "cell_type": "code",
   "execution_count": null,
   "id": "b5c791c7-b2e5-458d-8679-ebce9e9b40c4",
   "metadata": {},
   "outputs": [],
   "source": []
  },
  {
   "cell_type": "code",
   "execution_count": null,
   "id": "ed8daf02-6772-40a0-8fd8-04a26e849547",
   "metadata": {},
   "outputs": [],
   "source": []
  },
  {
   "cell_type": "code",
   "execution_count": null,
   "id": "a6fd231c-8c85-4491-b2c2-5fb318d2eb27",
   "metadata": {},
   "outputs": [],
   "source": []
  }
 ],
 "metadata": {
  "kernelspec": {
   "display_name": "Python 3 (ipykernel)",
   "language": "python",
   "name": "python3"
  },
  "language_info": {
   "codemirror_mode": {
    "name": "ipython",
    "version": 3
   },
   "file_extension": ".py",
   "mimetype": "text/x-python",
   "name": "python",
   "nbconvert_exporter": "python",
   "pygments_lexer": "ipython3",
   "version": "3.12.3"
  }
 },
 "nbformat": 4,
 "nbformat_minor": 5
}
